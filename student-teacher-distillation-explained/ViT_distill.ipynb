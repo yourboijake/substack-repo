{
 "cells": [
  {
   "cell_type": "code",
   "execution_count": 1,
   "metadata": {
    "colab": {
     "base_uri": "https://localhost:8080/"
    },
    "executionInfo": {
     "elapsed": 18732,
     "status": "ok",
     "timestamp": 1752063124736,
     "user": {
      "displayName": "Jacob Dunning",
      "userId": "17361546069656016098"
     },
     "user_tz": 360
    },
    "id": "Y4OQyhnk0rVB",
    "outputId": "02299f45-817d-413e-daac-5c6f9d8c6092"
   },
   "outputs": [
    {
     "name": "stdout",
     "output_type": "stream",
     "text": [
      "Mounted at /content/drive\n"
     ]
    }
   ],
   "source": [
    "# Mount Google Drive\n",
    "from google.colab import drive\n",
    "drive.mount('/content/drive')\n",
    "\n",
    "# Write a sample file to Google Drive\n",
    "with open('/content/drive/My Drive/ML + Robotics/sample.txt', 'w') as f:\n",
    "  f.write('Hello, World!')"
   ]
  },
  {
   "cell_type": "code",
   "execution_count": 2,
   "metadata": {
    "colab": {
     "base_uri": "https://localhost:8080/"
    },
    "executionInfo": {
     "elapsed": 114354,
     "status": "ok",
     "timestamp": 1752063241865,
     "user": {
      "displayName": "Jacob Dunning",
      "userId": "17361546069656016098"
     },
     "user_tz": 360
    },
    "id": "uli0YfNhv4Qq",
    "outputId": "ed3d0984-039f-49a0-9f81-f47c7ada9689"
   },
   "outputs": [
    {
     "name": "stdout",
     "output_type": "stream",
     "text": [
      "Requirement already satisfied: torch in /usr/local/lib/python3.11/dist-packages (2.6.0+cu124)\n",
      "Requirement already satisfied: torchvision in /usr/local/lib/python3.11/dist-packages (0.21.0+cu124)\n",
      "Requirement already satisfied: tqdm in /usr/local/lib/python3.11/dist-packages (4.67.1)\n",
      "Requirement already satisfied: timm in /usr/local/lib/python3.11/dist-packages (1.0.16)\n",
      "Collecting detectors\n",
      "  Downloading detectors-0.1.11-py3-none-any.whl.metadata (9.3 kB)\n",
      "Requirement already satisfied: filelock in /usr/local/lib/python3.11/dist-packages (from torch) (3.18.0)\n",
      "Requirement already satisfied: typing-extensions>=4.10.0 in /usr/local/lib/python3.11/dist-packages (from torch) (4.14.0)\n",
      "Requirement already satisfied: networkx in /usr/local/lib/python3.11/dist-packages (from torch) (3.5)\n",
      "Requirement already satisfied: jinja2 in /usr/local/lib/python3.11/dist-packages (from torch) (3.1.6)\n",
      "Requirement already satisfied: fsspec in /usr/local/lib/python3.11/dist-packages (from torch) (2025.3.2)\n",
      "Collecting nvidia-cuda-nvrtc-cu12==12.4.127 (from torch)\n",
      "  Downloading nvidia_cuda_nvrtc_cu12-12.4.127-py3-none-manylinux2014_x86_64.whl.metadata (1.5 kB)\n",
      "Collecting nvidia-cuda-runtime-cu12==12.4.127 (from torch)\n",
      "  Downloading nvidia_cuda_runtime_cu12-12.4.127-py3-none-manylinux2014_x86_64.whl.metadata (1.5 kB)\n",
      "Collecting nvidia-cuda-cupti-cu12==12.4.127 (from torch)\n",
      "  Downloading nvidia_cuda_cupti_cu12-12.4.127-py3-none-manylinux2014_x86_64.whl.metadata (1.6 kB)\n",
      "Collecting nvidia-cudnn-cu12==9.1.0.70 (from torch)\n",
      "  Downloading nvidia_cudnn_cu12-9.1.0.70-py3-none-manylinux2014_x86_64.whl.metadata (1.6 kB)\n",
      "Collecting nvidia-cublas-cu12==12.4.5.8 (from torch)\n",
      "  Downloading nvidia_cublas_cu12-12.4.5.8-py3-none-manylinux2014_x86_64.whl.metadata (1.5 kB)\n",
      "Collecting nvidia-cufft-cu12==11.2.1.3 (from torch)\n",
      "  Downloading nvidia_cufft_cu12-11.2.1.3-py3-none-manylinux2014_x86_64.whl.metadata (1.5 kB)\n",
      "Collecting nvidia-curand-cu12==10.3.5.147 (from torch)\n",
      "  Downloading nvidia_curand_cu12-10.3.5.147-py3-none-manylinux2014_x86_64.whl.metadata (1.5 kB)\n",
      "Collecting nvidia-cusolver-cu12==11.6.1.9 (from torch)\n",
      "  Downloading nvidia_cusolver_cu12-11.6.1.9-py3-none-manylinux2014_x86_64.whl.metadata (1.6 kB)\n",
      "Collecting nvidia-cusparse-cu12==12.3.1.170 (from torch)\n",
      "  Downloading nvidia_cusparse_cu12-12.3.1.170-py3-none-manylinux2014_x86_64.whl.metadata (1.6 kB)\n",
      "Requirement already satisfied: nvidia-cusparselt-cu12==0.6.2 in /usr/local/lib/python3.11/dist-packages (from torch) (0.6.2)\n",
      "Requirement already satisfied: nvidia-nccl-cu12==2.21.5 in /usr/local/lib/python3.11/dist-packages (from torch) (2.21.5)\n",
      "Requirement already satisfied: nvidia-nvtx-cu12==12.4.127 in /usr/local/lib/python3.11/dist-packages (from torch) (12.4.127)\n",
      "Collecting nvidia-nvjitlink-cu12==12.4.127 (from torch)\n",
      "  Downloading nvidia_nvjitlink_cu12-12.4.127-py3-none-manylinux2014_x86_64.whl.metadata (1.5 kB)\n",
      "Requirement already satisfied: triton==3.2.0 in /usr/local/lib/python3.11/dist-packages (from torch) (3.2.0)\n",
      "Requirement already satisfied: sympy==1.13.1 in /usr/local/lib/python3.11/dist-packages (from torch) (1.13.1)\n",
      "Requirement already satisfied: mpmath<1.4,>=1.1.0 in /usr/local/lib/python3.11/dist-packages (from sympy==1.13.1->torch) (1.3.0)\n",
      "Requirement already satisfied: numpy in /usr/local/lib/python3.11/dist-packages (from torchvision) (2.0.2)\n",
      "Requirement already satisfied: pillow!=8.3.*,>=5.3.0 in /usr/local/lib/python3.11/dist-packages (from torchvision) (11.2.1)\n",
      "Requirement already satisfied: pyyaml in /usr/local/lib/python3.11/dist-packages (from timm) (6.0.2)\n",
      "Requirement already satisfied: huggingface_hub in /usr/local/lib/python3.11/dist-packages (from timm) (0.33.2)\n",
      "Requirement already satisfied: safetensors in /usr/local/lib/python3.11/dist-packages (from timm) (0.5.3)\n",
      "Collecting optuna (from detectors)\n",
      "  Downloading optuna-4.4.0-py3-none-any.whl.metadata (17 kB)\n",
      "Requirement already satisfied: scikit-learn in /usr/local/lib/python3.11/dist-packages (from detectors) (1.6.1)\n",
      "Requirement already satisfied: scikit-image in /usr/local/lib/python3.11/dist-packages (from detectors) (0.25.2)\n",
      "Requirement already satisfied: scipy in /usr/local/lib/python3.11/dist-packages (from detectors) (1.15.3)\n",
      "Requirement already satisfied: accelerate in /usr/local/lib/python3.11/dist-packages (from detectors) (1.8.1)\n",
      "Requirement already satisfied: psutil in /usr/local/lib/python3.11/dist-packages (from detectors) (5.9.5)\n",
      "Requirement already satisfied: pandas in /usr/local/lib/python3.11/dist-packages (from detectors) (2.2.2)\n",
      "Collecting wilds (from detectors)\n",
      "  Downloading wilds-2.0.0-py3-none-any.whl.metadata (22 kB)\n",
      "Collecting faiss-cpu (from detectors)\n",
      "  Downloading faiss_cpu-1.11.0-cp311-cp311-manylinux_2_28_x86_64.whl.metadata (4.8 kB)\n",
      "Requirement already satisfied: matplotlib in /usr/local/lib/python3.11/dist-packages (from detectors) (3.10.0)\n",
      "Requirement already satisfied: packaging>=20.0 in /usr/local/lib/python3.11/dist-packages (from accelerate->detectors) (24.2)\n",
      "Requirement already satisfied: requests in /usr/local/lib/python3.11/dist-packages (from huggingface_hub->timm) (2.32.3)\n",
      "Requirement already satisfied: hf-xet<2.0.0,>=1.1.2 in /usr/local/lib/python3.11/dist-packages (from huggingface_hub->timm) (1.1.5)\n",
      "Requirement already satisfied: MarkupSafe>=2.0 in /usr/local/lib/python3.11/dist-packages (from jinja2->torch) (3.0.2)\n",
      "Requirement already satisfied: contourpy>=1.0.1 in /usr/local/lib/python3.11/dist-packages (from matplotlib->detectors) (1.3.2)\n",
      "Requirement already satisfied: cycler>=0.10 in /usr/local/lib/python3.11/dist-packages (from matplotlib->detectors) (0.12.1)\n",
      "Requirement already satisfied: fonttools>=4.22.0 in /usr/local/lib/python3.11/dist-packages (from matplotlib->detectors) (4.58.4)\n",
      "Requirement already satisfied: kiwisolver>=1.3.1 in /usr/local/lib/python3.11/dist-packages (from matplotlib->detectors) (1.4.8)\n",
      "Requirement already satisfied: pyparsing>=2.3.1 in /usr/local/lib/python3.11/dist-packages (from matplotlib->detectors) (3.2.3)\n",
      "Requirement already satisfied: python-dateutil>=2.7 in /usr/local/lib/python3.11/dist-packages (from matplotlib->detectors) (2.9.0.post0)\n",
      "Collecting alembic>=1.5.0 (from optuna->detectors)\n",
      "  Downloading alembic-1.16.3-py3-none-any.whl.metadata (7.3 kB)\n",
      "Collecting colorlog (from optuna->detectors)\n",
      "  Downloading colorlog-6.9.0-py3-none-any.whl.metadata (10 kB)\n",
      "Requirement already satisfied: sqlalchemy>=1.4.2 in /usr/local/lib/python3.11/dist-packages (from optuna->detectors) (2.0.41)\n",
      "Requirement already satisfied: pytz>=2020.1 in /usr/local/lib/python3.11/dist-packages (from pandas->detectors) (2025.2)\n",
      "Requirement already satisfied: tzdata>=2022.7 in /usr/local/lib/python3.11/dist-packages (from pandas->detectors) (2025.2)\n",
      "Requirement already satisfied: imageio!=2.35.0,>=2.33 in /usr/local/lib/python3.11/dist-packages (from scikit-image->detectors) (2.37.0)\n",
      "Requirement already satisfied: tifffile>=2022.8.12 in /usr/local/lib/python3.11/dist-packages (from scikit-image->detectors) (2025.6.11)\n",
      "Requirement already satisfied: lazy-loader>=0.4 in /usr/local/lib/python3.11/dist-packages (from scikit-image->detectors) (0.4)\n",
      "Requirement already satisfied: joblib>=1.2.0 in /usr/local/lib/python3.11/dist-packages (from scikit-learn->detectors) (1.5.1)\n",
      "Requirement already satisfied: threadpoolctl>=3.1.0 in /usr/local/lib/python3.11/dist-packages (from scikit-learn->detectors) (3.6.0)\n",
      "Collecting ogb>=1.2.6 (from wilds->detectors)\n",
      "  Downloading ogb-1.3.6-py3-none-any.whl.metadata (6.2 kB)\n",
      "Collecting outdated>=0.2.0 (from wilds->detectors)\n",
      "  Downloading outdated-0.2.2-py2.py3-none-any.whl.metadata (4.7 kB)\n",
      "Requirement already satisfied: Mako in /usr/lib/python3/dist-packages (from alembic>=1.5.0->optuna->detectors) (1.1.3)\n",
      "Requirement already satisfied: six>=1.12.0 in /usr/local/lib/python3.11/dist-packages (from ogb>=1.2.6->wilds->detectors) (1.17.0)\n",
      "Requirement already satisfied: urllib3>=1.24.0 in /usr/local/lib/python3.11/dist-packages (from ogb>=1.2.6->wilds->detectors) (2.4.0)\n",
      "Requirement already satisfied: setuptools>=44 in /usr/local/lib/python3.11/dist-packages (from outdated>=0.2.0->wilds->detectors) (75.2.0)\n",
      "Collecting littleutils (from outdated>=0.2.0->wilds->detectors)\n",
      "  Downloading littleutils-0.2.4-py3-none-any.whl.metadata (679 bytes)\n",
      "Requirement already satisfied: greenlet>=1 in /usr/local/lib/python3.11/dist-packages (from sqlalchemy>=1.4.2->optuna->detectors) (3.2.3)\n",
      "Requirement already satisfied: charset-normalizer<4,>=2 in /usr/local/lib/python3.11/dist-packages (from requests->huggingface_hub->timm) (3.4.2)\n",
      "Requirement already satisfied: idna<4,>=2.5 in /usr/local/lib/python3.11/dist-packages (from requests->huggingface_hub->timm) (3.10)\n",
      "Requirement already satisfied: certifi>=2017.4.17 in /usr/local/lib/python3.11/dist-packages (from requests->huggingface_hub->timm) (2025.6.15)\n",
      "Downloading nvidia_cublas_cu12-12.4.5.8-py3-none-manylinux2014_x86_64.whl (363.4 MB)\n",
      "\u001b[2K   \u001b[90m━━━━━━━━━━━━━━━━━━━━━━━━━━━━━━━━━━━━━━━━\u001b[0m \u001b[32m363.4/363.4 MB\u001b[0m \u001b[31m3.8 MB/s\u001b[0m eta \u001b[36m0:00:00\u001b[0m\n",
      "\u001b[?25hDownloading nvidia_cuda_cupti_cu12-12.4.127-py3-none-manylinux2014_x86_64.whl (13.8 MB)\n",
      "\u001b[2K   \u001b[90m━━━━━━━━━━━━━━━━━━━━━━━━━━━━━━━━━━━━━━━━\u001b[0m \u001b[32m13.8/13.8 MB\u001b[0m \u001b[31m115.6 MB/s\u001b[0m eta \u001b[36m0:00:00\u001b[0m\n",
      "\u001b[?25hDownloading nvidia_cuda_nvrtc_cu12-12.4.127-py3-none-manylinux2014_x86_64.whl (24.6 MB)\n",
      "\u001b[2K   \u001b[90m━━━━━━━━━━━━━━━━━━━━━━━━━━━━━━━━━━━━━━━━\u001b[0m \u001b[32m24.6/24.6 MB\u001b[0m \u001b[31m87.3 MB/s\u001b[0m eta \u001b[36m0:00:00\u001b[0m\n",
      "\u001b[?25hDownloading nvidia_cuda_runtime_cu12-12.4.127-py3-none-manylinux2014_x86_64.whl (883 kB)\n",
      "\u001b[2K   \u001b[90m━━━━━━━━━━━━━━━━━━━━━━━━━━━━━━━━━━━━━━━━\u001b[0m \u001b[32m883.7/883.7 kB\u001b[0m \u001b[31m61.4 MB/s\u001b[0m eta \u001b[36m0:00:00\u001b[0m\n",
      "\u001b[?25hDownloading nvidia_cudnn_cu12-9.1.0.70-py3-none-manylinux2014_x86_64.whl (664.8 MB)\n",
      "\u001b[2K   \u001b[90m━━━━━━━━━━━━━━━━━━━━━━━━━━━━━━━━━━━━━━━━\u001b[0m \u001b[32m664.8/664.8 MB\u001b[0m \u001b[31m2.9 MB/s\u001b[0m eta \u001b[36m0:00:00\u001b[0m\n",
      "\u001b[?25hDownloading nvidia_cufft_cu12-11.2.1.3-py3-none-manylinux2014_x86_64.whl (211.5 MB)\n",
      "\u001b[2K   \u001b[90m━━━━━━━━━━━━━━━━━━━━━━━━━━━━━━━━━━━━━━━━\u001b[0m \u001b[32m211.5/211.5 MB\u001b[0m \u001b[31m5.4 MB/s\u001b[0m eta \u001b[36m0:00:00\u001b[0m\n",
      "\u001b[?25hDownloading nvidia_curand_cu12-10.3.5.147-py3-none-manylinux2014_x86_64.whl (56.3 MB)\n",
      "\u001b[2K   \u001b[90m━━━━━━━━━━━━━━━━━━━━━━━━━━━━━━━━━━━━━━━━\u001b[0m \u001b[32m56.3/56.3 MB\u001b[0m \u001b[31m13.8 MB/s\u001b[0m eta \u001b[36m0:00:00\u001b[0m\n",
      "\u001b[?25hDownloading nvidia_cusolver_cu12-11.6.1.9-py3-none-manylinux2014_x86_64.whl (127.9 MB)\n",
      "\u001b[2K   \u001b[90m━━━━━━━━━━━━━━━━━━━━━━━━━━━━━━━━━━━━━━━━\u001b[0m \u001b[32m127.9/127.9 MB\u001b[0m \u001b[31m7.4 MB/s\u001b[0m eta \u001b[36m0:00:00\u001b[0m\n",
      "\u001b[?25hDownloading nvidia_cusparse_cu12-12.3.1.170-py3-none-manylinux2014_x86_64.whl (207.5 MB)\n",
      "\u001b[2K   \u001b[90m━━━━━━━━━━━━━━━━━━━━━━━━━━━━━━━━━━━━━━━━\u001b[0m \u001b[32m207.5/207.5 MB\u001b[0m \u001b[31m5.5 MB/s\u001b[0m eta \u001b[36m0:00:00\u001b[0m\n",
      "\u001b[?25hDownloading nvidia_nvjitlink_cu12-12.4.127-py3-none-manylinux2014_x86_64.whl (21.1 MB)\n",
      "\u001b[2K   \u001b[90m━━━━━━━━━━━━━━━━━━━━━━━━━━━━━━━━━━━━━━━━\u001b[0m \u001b[32m21.1/21.1 MB\u001b[0m \u001b[31m102.3 MB/s\u001b[0m eta \u001b[36m0:00:00\u001b[0m\n",
      "\u001b[?25hDownloading detectors-0.1.11-py3-none-any.whl (616 kB)\n",
      "\u001b[2K   \u001b[90m━━━━━━━━━━━━━━━━━━━━━━━━━━━━━━━━━━━━━━━━\u001b[0m \u001b[32m616.8/616.8 kB\u001b[0m \u001b[31m45.1 MB/s\u001b[0m eta \u001b[36m0:00:00\u001b[0m\n",
      "\u001b[?25hDownloading faiss_cpu-1.11.0-cp311-cp311-manylinux_2_28_x86_64.whl (31.3 MB)\n",
      "\u001b[2K   \u001b[90m━━━━━━━━━━━━━━━━━━━━━━━━━━━━━━━━━━━━━━━━\u001b[0m \u001b[32m31.3/31.3 MB\u001b[0m \u001b[31m19.6 MB/s\u001b[0m eta \u001b[36m0:00:00\u001b[0m\n",
      "\u001b[?25hDownloading optuna-4.4.0-py3-none-any.whl (395 kB)\n",
      "\u001b[2K   \u001b[90m━━━━━━━━━━━━━━━━━━━━━━━━━━━━━━━━━━━━━━━━\u001b[0m \u001b[32m395.9/395.9 kB\u001b[0m \u001b[31m35.3 MB/s\u001b[0m eta \u001b[36m0:00:00\u001b[0m\n",
      "\u001b[?25hDownloading wilds-2.0.0-py3-none-any.whl (126 kB)\n",
      "\u001b[2K   \u001b[90m━━━━━━━━━━━━━━━━━━━━━━━━━━━━━━━━━━━━━━━━\u001b[0m \u001b[32m126.2/126.2 kB\u001b[0m \u001b[31m16.1 MB/s\u001b[0m eta \u001b[36m0:00:00\u001b[0m\n",
      "\u001b[?25hDownloading alembic-1.16.3-py3-none-any.whl (246 kB)\n",
      "\u001b[2K   \u001b[90m━━━━━━━━━━━━━━━━━━━━━━━━━━━━━━━━━━━━━━━━\u001b[0m \u001b[32m246.9/246.9 kB\u001b[0m \u001b[31m26.8 MB/s\u001b[0m eta \u001b[36m0:00:00\u001b[0m\n",
      "\u001b[?25hDownloading ogb-1.3.6-py3-none-any.whl (78 kB)\n",
      "\u001b[2K   \u001b[90m━━━━━━━━━━━━━━━━━━━━━━━━━━━━━━━━━━━━━━━━\u001b[0m \u001b[32m78.8/78.8 kB\u001b[0m \u001b[31m8.7 MB/s\u001b[0m eta \u001b[36m0:00:00\u001b[0m\n",
      "\u001b[?25hDownloading outdated-0.2.2-py2.py3-none-any.whl (7.5 kB)\n",
      "Downloading colorlog-6.9.0-py3-none-any.whl (11 kB)\n",
      "Downloading littleutils-0.2.4-py3-none-any.whl (8.1 kB)\n",
      "Installing collected packages: nvidia-nvjitlink-cu12, nvidia-curand-cu12, nvidia-cufft-cu12, nvidia-cuda-runtime-cu12, nvidia-cuda-nvrtc-cu12, nvidia-cuda-cupti-cu12, nvidia-cublas-cu12, littleutils, faiss-cpu, colorlog, outdated, nvidia-cusparse-cu12, nvidia-cudnn-cu12, alembic, optuna, nvidia-cusolver-cu12, ogb, wilds, detectors\n",
      "  Attempting uninstall: nvidia-nvjitlink-cu12\n",
      "    Found existing installation: nvidia-nvjitlink-cu12 12.5.82\n",
      "    Uninstalling nvidia-nvjitlink-cu12-12.5.82:\n",
      "      Successfully uninstalled nvidia-nvjitlink-cu12-12.5.82\n",
      "  Attempting uninstall: nvidia-curand-cu12\n",
      "    Found existing installation: nvidia-curand-cu12 10.3.6.82\n",
      "    Uninstalling nvidia-curand-cu12-10.3.6.82:\n",
      "      Successfully uninstalled nvidia-curand-cu12-10.3.6.82\n",
      "  Attempting uninstall: nvidia-cufft-cu12\n",
      "    Found existing installation: nvidia-cufft-cu12 11.2.3.61\n",
      "    Uninstalling nvidia-cufft-cu12-11.2.3.61:\n",
      "      Successfully uninstalled nvidia-cufft-cu12-11.2.3.61\n",
      "  Attempting uninstall: nvidia-cuda-runtime-cu12\n",
      "    Found existing installation: nvidia-cuda-runtime-cu12 12.5.82\n",
      "    Uninstalling nvidia-cuda-runtime-cu12-12.5.82:\n",
      "      Successfully uninstalled nvidia-cuda-runtime-cu12-12.5.82\n",
      "  Attempting uninstall: nvidia-cuda-nvrtc-cu12\n",
      "    Found existing installation: nvidia-cuda-nvrtc-cu12 12.5.82\n",
      "    Uninstalling nvidia-cuda-nvrtc-cu12-12.5.82:\n",
      "      Successfully uninstalled nvidia-cuda-nvrtc-cu12-12.5.82\n",
      "  Attempting uninstall: nvidia-cuda-cupti-cu12\n",
      "    Found existing installation: nvidia-cuda-cupti-cu12 12.5.82\n",
      "    Uninstalling nvidia-cuda-cupti-cu12-12.5.82:\n",
      "      Successfully uninstalled nvidia-cuda-cupti-cu12-12.5.82\n",
      "  Attempting uninstall: nvidia-cublas-cu12\n",
      "    Found existing installation: nvidia-cublas-cu12 12.5.3.2\n",
      "    Uninstalling nvidia-cublas-cu12-12.5.3.2:\n",
      "      Successfully uninstalled nvidia-cublas-cu12-12.5.3.2\n",
      "  Attempting uninstall: nvidia-cusparse-cu12\n",
      "    Found existing installation: nvidia-cusparse-cu12 12.5.1.3\n",
      "    Uninstalling nvidia-cusparse-cu12-12.5.1.3:\n",
      "      Successfully uninstalled nvidia-cusparse-cu12-12.5.1.3\n",
      "  Attempting uninstall: nvidia-cudnn-cu12\n",
      "    Found existing installation: nvidia-cudnn-cu12 9.3.0.75\n",
      "    Uninstalling nvidia-cudnn-cu12-9.3.0.75:\n",
      "      Successfully uninstalled nvidia-cudnn-cu12-9.3.0.75\n",
      "  Attempting uninstall: nvidia-cusolver-cu12\n",
      "    Found existing installation: nvidia-cusolver-cu12 11.6.3.83\n",
      "    Uninstalling nvidia-cusolver-cu12-11.6.3.83:\n",
      "      Successfully uninstalled nvidia-cusolver-cu12-11.6.3.83\n",
      "Successfully installed alembic-1.16.3 colorlog-6.9.0 detectors-0.1.11 faiss-cpu-1.11.0 littleutils-0.2.4 nvidia-cublas-cu12-12.4.5.8 nvidia-cuda-cupti-cu12-12.4.127 nvidia-cuda-nvrtc-cu12-12.4.127 nvidia-cuda-runtime-cu12-12.4.127 nvidia-cudnn-cu12-9.1.0.70 nvidia-cufft-cu12-11.2.1.3 nvidia-curand-cu12-10.3.5.147 nvidia-cusolver-cu12-11.6.1.9 nvidia-cusparse-cu12-12.3.1.170 nvidia-nvjitlink-cu12-12.4.127 ogb-1.3.6 optuna-4.4.0 outdated-0.2.2 wilds-2.0.0\n"
     ]
    }
   ],
   "source": [
    "!pip install torch torchvision tqdm timm detectors\n",
    "import torch\n",
    "import torch.nn as nn\n",
    "import torch.nn.functional as F\n",
    "import torch.optim as optim\n",
    "from torch.utils.data import DataLoader, Dataset\n",
    "import torchvision\n",
    "import torchvision.transforms as transforms\n",
    "\n",
    "from tqdm import tqdm\n",
    "\n",
    "import timm\n",
    "import detectors\n",
    "import datetime\n"
   ]
  },
  {
   "cell_type": "markdown",
   "metadata": {
    "id": "VyYdSAuxzIBu"
   },
   "source": [
    "### Retrieve Data and Model Objects"
   ]
  },
  {
   "cell_type": "code",
   "execution_count": 3,
   "metadata": {
    "executionInfo": {
     "elapsed": 5,
     "status": "ok",
     "timestamp": 1752063276735,
     "user": {
      "displayName": "Jacob Dunning",
      "userId": "17361546069656016098"
     },
     "user_tz": 360
    },
    "id": "B5tzmI0cwOZT"
   },
   "outputs": [],
   "source": [
    "def get_cifar10_data(batch_size):\n",
    "  \"\"\"Get CIFAR-10 data loaders with appropriate transforms\"\"\"\n",
    "  transform = transforms.Compose([\n",
    "    transforms.Resize(224),\n",
    "    transforms.ToTensor(),\n",
    "    transforms.Normalize(mean=[0.49139968, 0.48215827 ,0.44653124],\n",
    "                         std=[0.24703233, 0.24348505, 0.26158768])\n",
    "  ])\n",
    "\n",
    "  trainset = torchvision.datasets.CIFAR10(\n",
    "    root='./data', train=True, download=True, transform=transform\n",
    "  )\n",
    "  testset = torchvision.datasets.CIFAR10(\n",
    "    root='./data', train=False, download=True, transform=transform\n",
    "  )\n",
    "\n",
    "  trainloader = DataLoader(trainset, batch_size=batch_size,\n",
    "                           shuffle=True, num_workers=2)\n",
    "  testloader = DataLoader(testset, batch_size=batch_size,\n",
    "                          shuffle=False, num_workers=2)\n",
    "\n",
    "  return trainset, testset, trainloader, testloader\n",
    "\n"
   ]
  },
  {
   "cell_type": "code",
   "execution_count": 4,
   "metadata": {
    "executionInfo": {
     "elapsed": 2,
     "status": "ok",
     "timestamp": 1752063279646,
     "user": {
      "displayName": "Jacob Dunning",
      "userId": "17361546069656016098"
     },
     "user_tz": 360
    },
    "id": "hgMix2CYyEqA"
   },
   "outputs": [],
   "source": [
    "def init_model(device):\n",
    "  '''\n",
    "  initialize vit tiny patch16_224 model from timm, no pretraining\n",
    "  '''\n",
    "  model = timm.create_model('vit_tiny_patch16_224',\n",
    "                            pretrained=False, num_classes=10)\n",
    "  model.to(device)\n",
    "  return model\n",
    "\n",
    "def get_teacher_model(device):\n",
    "  '''\n",
    "  get resnet18 teacher model from timm, with pretrained weights\n",
    "  '''\n",
    "  resnet18 = timm.create_model(\"resnet18_cifar10\", pretrained=True)\n",
    "  #don't want to accidentally update params during training\n",
    "  for p in resnet18.parameters():\n",
    "    p.requires_grad = False\n",
    "  resnet18.to(device)\n",
    "  return resnet18"
   ]
  },
  {
   "cell_type": "markdown",
   "metadata": {
    "id": "WBgPzA3IzSJ2"
   },
   "source": [
    "### Define eval and train functions"
   ]
  },
  {
   "cell_type": "code",
   "execution_count": 5,
   "metadata": {
    "executionInfo": {
     "elapsed": 2,
     "status": "ok",
     "timestamp": 1752063281428,
     "user": {
      "displayName": "Jacob Dunning",
      "userId": "17361546069656016098"
     },
     "user_tz": 360
    },
    "id": "9dvwflEiy7_U"
   },
   "outputs": [],
   "source": [
    "#accuracy of classification\n",
    "def eval_model(model, testloader, device):\n",
    "  model.eval()\n",
    "  correct = 0\n",
    "  total = 0\n",
    "  with torch.no_grad():\n",
    "    for inputs, labels in testloader:\n",
    "      inputs, labels = inputs.to(device), labels.to(device)\n",
    "      outputs = model(inputs)\n",
    "      preds = outputs.argmax(dim=-1)\n",
    "      correct += preds.eq(labels).sum()\n",
    "      total += inputs.shape[0]\n",
    "  return correct / float(total)"
   ]
  },
  {
   "cell_type": "code",
   "execution_count": 6,
   "metadata": {
    "executionInfo": {
     "elapsed": 12,
     "status": "ok",
     "timestamp": 1752063283566,
     "user": {
      "displayName": "Jacob Dunning",
      "userId": "17361546069656016098"
     },
     "user_tz": 360
    },
    "id": "_fZ6Kg0nzFOH"
   },
   "outputs": [],
   "source": [
    "def train(\n",
    "  model,\n",
    "  trainloader,\n",
    "  testloader,\n",
    "  device,\n",
    "  learning_rate,\n",
    "  weight_decay,\n",
    "  num_epochs,\n",
    "  teacher_model=None,\n",
    "  temperature=0.5,\n",
    "  alpha=0.5,\n",
    "  premature_stop=None):\n",
    "  optimizer = optim.AdamW(params=model.parameters(), lr=learning_rate, weight_decay=weight_decay)\n",
    "  ce_loss_criterion = nn.CrossEntropyLoss()\n",
    "  kld_loss_criterion = nn.KLDivLoss(reduction='batchmean')\n",
    "  scheduler = optim.lr_scheduler.CosineAnnealingLR(optimizer, T_max=num_epochs)\n",
    "\n",
    "  train_epoch_losses, train_epoch_acc, test_epoch_acc = [], [], []\n",
    "  epoch_values, iters, train_losses, train_acc = [], [], [], []\n",
    "\n",
    "  for epoch in range(num_epochs):\n",
    "    total_loss = 0.0\n",
    "    correct = 0\n",
    "    total = 0\n",
    "    model.train()\n",
    "\n",
    "    pbar = tqdm(trainloader, desc=f'Epoch {epoch+1}/{num_epochs}')\n",
    "    for batch_idx, (inputs, labels) in enumerate(pbar):\n",
    "      #forward and backward pass\n",
    "      inputs, labels = inputs.to(device), labels.to(device)\n",
    "      outputs = model(inputs)\n",
    "      if teacher_model:\n",
    "        with torch.no_grad():\n",
    "          soft_labels = F.softmax(teacher_model(inputs) / temperature, dim=1) #get soft labels from teacher model\n",
    "        soft_preds = F.log_softmax(outputs / temperature, dim=1)\n",
    "        kld_loss = kld_loss_criterion(soft_preds, soft_labels) * (temperature ** 2)\n",
    "        ce_loss = ce_loss_criterion(outputs, labels)\n",
    "        loss = alpha * kld_loss + (1 - alpha) * ce_loss #combine CELoss and KL-Divergence Loss\n",
    "      else:\n",
    "        loss = ce_loss_criterion(outputs, labels)\n",
    "      optimizer.zero_grad()\n",
    "      loss.backward()\n",
    "      optimizer.step()\n",
    "\n",
    "      #update running statistics\n",
    "      total_loss += loss.item()\n",
    "      preds = outputs.argmax(dim=-1)\n",
    "      correct += preds.eq(labels).sum()\n",
    "      total += labels.size(0)\n",
    "      if premature_stop:\n",
    "        if batch_idx >= premature_stop: return total_loss, correct / float(total)\n",
    "\n",
    "      #update progress bar\n",
    "      pbar.set_postfix({\n",
    "        'Loss': f'{loss.item():.4f}',\n",
    "        'Acc': f'{100.*correct/total:.2f}%'\n",
    "      })\n",
    "      epoch_values.append(epoch)\n",
    "      iters.append(batch_idx)\n",
    "      train_losses.append(loss.item())\n",
    "      train_acc.append(correct / float(total))\n",
    "\n",
    "    # update learning rate\n",
    "    scheduler.step()\n",
    "\n",
    "    # Calculate epoch metrics\n",
    "    epoch_loss = total_loss / len(trainloader)\n",
    "    epoch_acc = 100. * correct / total\n",
    "    test_acc = eval_model(model, testloader, device)\n",
    "\n",
    "    train_epoch_losses.append(epoch_loss)\n",
    "    train_epoch_acc.append(epoch_acc)\n",
    "    test_epoch_acc.append(test_acc)\n",
    "\n",
    "    print(f'Epoch {epoch+1}: Train CELoss: {epoch_loss:.4f}, Train Acc: {epoch_acc:.2f}%, Test Acc: {test_acc:.2f}%')\n",
    "\n",
    "  results = {\n",
    "    'train_epoch_losses': train_epoch_losses,\n",
    "    'train_epoch_acc': train_epoch_acc,\n",
    "    'test_epoch_acc': test_epoch_acc,\n",
    "    'epoch_values': epoch_values,\n",
    "    'iters': iters,\n",
    "    'train_losses': train_losses,\n",
    "    'train_acc': train_acc\n",
    "  }\n",
    "  return results"
   ]
  },
  {
   "cell_type": "code",
   "execution_count": 7,
   "metadata": {
    "executionInfo": {
     "elapsed": 1,
     "status": "ok",
     "timestamp": 1752063288153,
     "user": {
      "displayName": "Jacob Dunning",
      "userId": "17361546069656016098"
     },
     "user_tz": 360
    },
    "id": "NuB7DEeazhuf"
   },
   "outputs": [],
   "source": [
    "def save_stats(results, output_file_prefix, ts):\n",
    "  #save batch-level stats\n",
    "  with open(f'/content/drive/My Drive/ML + Robotics/{output_file_prefix}_batchstats_{ts}.csv', 'w') as f:\n",
    "    for i in range(len(results['train_losses'])):\n",
    "      row = f'''{results['epoch_values'][i]},{results['iters'][i]},{results['train_losses'][i]},{results['train_acc'][i]}\\n'''\n",
    "      f.write(row)\n",
    "\n",
    "  #save epoch-level stats\n",
    "  with open(f'/content/drive/My Drive/ML + Robotics/{output_file_prefix}_epochstats_{ts}.csv', 'w') as f:\n",
    "    for i in range(len(results['train_epoch_losses'])):\n",
    "      row = f'''{i},{results['train_epoch_losses'][i]},{results['train_epoch_acc'][i]},{results['test_epoch_acc'][i]}\\n'''\n",
    "      f.write(row)"
   ]
  },
  {
   "cell_type": "markdown",
   "metadata": {
    "id": "E8jEfbuuzVnA"
   },
   "source": [
    "### Training Code"
   ]
  },
  {
   "cell_type": "code",
   "execution_count": 8,
   "metadata": {
    "colab": {
     "base_uri": "https://localhost:8080/"
    },
    "executionInfo": {
     "elapsed": 8813,
     "status": "ok",
     "timestamp": 1752063309809,
     "user": {
      "displayName": "Jacob Dunning",
      "userId": "17361546069656016098"
     },
     "user_tz": 360
    },
    "id": "9E5LkH4NyKTS",
    "outputId": "1a51919e-276c-4417-82df-19cfa5462c90"
   },
   "outputs": [
    {
     "name": "stdout",
     "output_type": "stream",
     "text": [
      "running using cuda\n"
     ]
    },
    {
     "name": "stderr",
     "output_type": "stream",
     "text": [
      "100%|██████████| 170M/170M [00:03<00:00, 43.3MB/s]\n",
      "Downloading: \"https://huggingface.co/edadaltocg/resnet18_cifar10/resolve/main/pytorch_model.bin\" to /root/.cache/torch/hub/checkpoints/resnet18_cifar10.pth\n",
      "100%|██████████| 42.7M/42.7M [00:00<00:00, 168MB/s]\n"
     ]
    }
   ],
   "source": [
    "#define compute device\n",
    "device = torch.device('cuda') if torch.cuda.is_available() else torch.device('cpu')\n",
    "print('running using', device)\n",
    "\n",
    "#get data\n",
    "trainset, testset, trainloader, testloader = get_cifar10_data(128)\n",
    "\n",
    "#get teacher model\n",
    "resnet_teacher = get_teacher_model(device)"
   ]
  },
  {
   "cell_type": "code",
   "execution_count": null,
   "metadata": {
    "colab": {
     "base_uri": "https://localhost:8080/"
    },
    "executionInfo": {
     "elapsed": 492005,
     "status": "ok",
     "timestamp": 1751857281136,
     "user": {
      "displayName": "Jacob Dunning",
      "userId": "17361546069656016098"
     },
     "user_tz": 360
    },
    "id": "mfYwIVhcyREq",
    "outputId": "033121d9-1485-4f0f-f62e-92e2421cfe33"
   },
   "outputs": [
    {
     "name": "stderr",
     "output_type": "stream",
     "text": [
      "Epoch 1/10:  13%|█▎        | 50/391 [00:24<02:48,  2.02it/s, Loss=2.1464, Acc=18.22%]\n",
      "Epoch 1/10:  13%|█▎        | 50/391 [00:25<02:53,  1.96it/s, Loss=2.1424, Acc=19.28%]\n",
      "Epoch 1/10:  13%|█▎        | 50/391 [00:24<02:45,  2.06it/s, Loss=2.1786, Acc=15.70%]\n",
      "Epoch 1/10:  13%|█▎        | 50/391 [00:24<02:46,  2.05it/s, Loss=2.0698, Acc=19.06%]\n",
      "Epoch 1/10:  13%|█▎        | 50/391 [00:24<02:43,  2.08it/s, Loss=2.1889, Acc=18.56%]\n",
      "Epoch 1/10:  13%|█▎        | 50/391 [00:24<02:47,  2.04it/s, Loss=2.0553, Acc=19.00%]\n",
      "Epoch 1/10:  13%|█▎        | 50/391 [00:24<02:45,  2.06it/s, Loss=2.0185, Acc=17.66%]\n",
      "Epoch 1/10:  13%|█▎        | 50/391 [00:24<02:49,  2.01it/s, Loss=2.2569, Acc=15.70%]\n",
      "Epoch 1/10:  13%|█▎        | 50/391 [00:24<02:45,  2.06it/s, Loss=2.1306, Acc=18.20%]\n",
      "Epoch 1/10:  13%|█▎        | 50/391 [00:24<02:45,  2.06it/s, Loss=2.0313, Acc=19.72%]\n",
      "Epoch 1/10:  13%|█▎        | 50/391 [00:24<02:46,  2.05it/s, Loss=2.1607, Acc=17.38%]\n",
      "Epoch 1/10:  13%|█▎        | 50/391 [00:24<02:46,  2.05it/s, Loss=2.0728, Acc=18.36%]\n",
      "Epoch 1/10:  13%|█▎        | 50/391 [00:24<02:45,  2.06it/s, Loss=2.1472, Acc=18.98%]\n",
      "Epoch 1/10:  13%|█▎        | 50/391 [00:24<02:45,  2.06it/s, Loss=1.9502, Acc=24.42%]\n",
      "Epoch 1/10:  13%|█▎        | 50/391 [00:24<02:49,  2.01it/s, Loss=2.2649, Acc=15.83%]\n",
      "Epoch 1/10:  13%|█▎        | 50/391 [00:24<02:45,  2.05it/s, Loss=2.2508, Acc=19.42%]\n",
      "Epoch 1/10:  13%|█▎        | 50/391 [00:24<02:45,  2.06it/s, Loss=2.1787, Acc=15.86%]\n",
      "Epoch 1/10:  13%|█▎        | 50/391 [00:24<02:45,  2.06it/s, Loss=2.0750, Acc=23.47%]\n",
      "Epoch 1/10:  13%|█▎        | 50/391 [00:24<02:45,  2.06it/s, Loss=2.1506, Acc=15.45%]\n",
      "Epoch 1/10:  13%|█▎        | 50/391 [00:24<02:46,  2.05it/s, Loss=1.9679, Acc=18.19%]\n"
     ]
    }
   ],
   "source": [
    "#find best initial learning rate for vit_normal\n",
    "lr_tests = []\n",
    "for lr in (torch.rand(20) * 1e-2):\n",
    "  model = init_model(device)\n",
    "  loss, acc = train(model, trainloader, testloader,\n",
    "                    device, learning_rate=lr.item(), weight_decay=1e-2,\n",
    "                    num_epochs=1, premature_stop=50)\n",
    "  lr_tests.append((lr.item(), loss, acc))"
   ]
  },
  {
   "cell_type": "code",
   "execution_count": null,
   "metadata": {
    "colab": {
     "base_uri": "https://localhost:8080/"
    },
    "executionInfo": {
     "elapsed": 409,
     "status": "ok",
     "timestamp": 1751857290771,
     "user": {
      "displayName": "Jacob Dunning",
      "userId": "17361546069656016098"
     },
     "user_tz": 360
    },
    "id": "X8WSTbmQ1M4K",
    "outputId": "8049fe26-174d-4198-b17a-79451e599d65"
   },
   "outputs": [
    {
     "data": {
      "text/plain": [
       "[(0.005193037446588278, 110.90308237075806, tensor(0.1814, device='cuda:0')),\n",
       " (0.00609348900616169, 109.90362119674683, tensor(0.1932, device='cuda:0')),\n",
       " (0.008939031511545181, 116.20408749580383, tensor(0.1572, device='cuda:0')),\n",
       " (0.0035522496327757835, 110.400723695755, tensor(0.1903, device='cuda:0')),\n",
       " (0.004252366255968809, 110.75607967376709, tensor(0.1873, device='cuda:0')),\n",
       " (0.0046906135976314545, 110.44552218914032, tensor(0.1890, device='cuda:0')),\n",
       " (0.005321366712450981, 110.75724804401398, tensor(0.1768, device='cuda:0')),\n",
       " (0.009965403936803341, 115.35032510757446, tensor(0.1573, device='cuda:0')),\n",
       " (0.0027509015053510666, 111.67822575569153, tensor(0.1820, device='cuda:0')),\n",
       " (0.0017359828343614936, 109.7705659866333, tensor(0.1972, device='cuda:0')),\n",
       " (0.0054545593447983265, 111.92306506633759, tensor(0.1728, device='cuda:0')),\n",
       " (0.004323772620409727, 110.27522850036621, tensor(0.1838, device='cuda:0')),\n",
       " (0.0034549450501799583, 109.8525071144104, tensor(0.1898, device='cuda:0')),\n",
       " (0.00034844575566239655, 104.26897776126862, tensor(0.2453, device='cuda:0')),\n",
       " (0.007569642271846533, 116.75720548629761, tensor(0.1592, device='cuda:0')),\n",
       " (0.0027418897952884436, 110.12604939937592, tensor(0.1938, device='cuda:0')),\n",
       " (0.0064764772541821, 114.41533303260803, tensor(0.1589, device='cuda:0')),\n",
       " (0.0005575334653258324, 104.52602279186249, tensor(0.2347, device='cuda:0')),\n",
       " (0.007751335855573416, 115.55265736579895, tensor(0.1553, device='cuda:0')),\n",
       " (0.0024414092767983675, 109.992849111557, tensor(0.1826, device='cuda:0'))]"
      ]
     },
     "execution_count": 33,
     "metadata": {},
     "output_type": "execute_result"
    }
   ],
   "source": [
    "lr_tests"
   ]
  },
  {
   "cell_type": "code",
   "execution_count": null,
   "metadata": {
    "colab": {
     "base_uri": "https://localhost:8080/"
    },
    "executionInfo": {
     "elapsed": 11,
     "status": "ok",
     "timestamp": 1751857344626,
     "user": {
      "displayName": "Jacob Dunning",
      "userId": "17361546069656016098"
     },
     "user_tz": 360
    },
    "id": "PYOn0jb_1Zf1",
    "outputId": "cdcd29ef-2033-4778-a056-e12cb107eb2e"
   },
   "outputs": [
    {
     "data": {
      "text/plain": [
       "0.003"
      ]
     },
     "execution_count": 34,
     "metadata": {},
     "output_type": "execute_result"
    }
   ],
   "source": [
    "#best normal LR: 4e-3"
   ]
  },
  {
   "cell_type": "code",
   "execution_count": null,
   "metadata": {
    "colab": {
     "base_uri": "https://localhost:8080/"
    },
    "executionInfo": {
     "elapsed": 3,
     "status": "ok",
     "timestamp": 1752030664720,
     "user": {
      "displayName": "Jacob Dunning",
      "userId": "17361546069656016098"
     },
     "user_tz": 360
    },
    "id": "68LD1fwyKgZ4",
    "outputId": "33c8d1fb-6694-4107-b56b-ee23aafdc7e0"
   },
   "outputs": [
    {
     "data": {
      "text/plain": [
       "0.45901137590408325"
      ]
     },
     "execution_count": 13,
     "metadata": {},
     "output_type": "execute_result"
    }
   ],
   "source": [
    "torch.rand(1).item()"
   ]
  },
  {
   "cell_type": "code",
   "execution_count": null,
   "metadata": {
    "colab": {
     "base_uri": "https://localhost:8080/"
    },
    "executionInfo": {
     "elapsed": 2024520,
     "status": "ok",
     "timestamp": 1752030615080,
     "user": {
      "displayName": "Jacob Dunning",
      "userId": "17361546069656016098"
     },
     "user_tz": 360
    },
    "id": "_JJbd9af1jog",
    "outputId": "b65878ef-9017-4f43-da85-516c4a740a68"
   },
   "outputs": [
    {
     "name": "stderr",
     "output_type": "stream",
     "text": [
      "Epoch 1/1:  13%|█▎        | 50/391 [01:39<11:21,  2.00s/it, Loss=1.6324, Acc=15.91%]\n",
      "Epoch 1/1:  13%|█▎        | 50/391 [01:41<11:31,  2.03s/it, Loss=0.9067, Acc=18.11%]\n",
      "Epoch 1/1:  13%|█▎        | 50/391 [01:41<11:28,  2.02s/it, Loss=0.8176, Acc=23.42%]\n",
      "Epoch 1/1:  13%|█▎        | 50/391 [01:40<11:28,  2.02s/it, Loss=0.6902, Acc=12.86%]\n",
      "Epoch 1/1:  13%|█▎        | 50/391 [01:41<11:29,  2.02s/it, Loss=1.8412, Acc=14.67%]\n",
      "Epoch 1/1:  13%|█▎        | 50/391 [01:40<11:28,  2.02s/it, Loss=2.1729, Acc=17.14%]\n",
      "Epoch 1/1:  13%|█▎        | 50/391 [01:41<11:31,  2.03s/it, Loss=1.6873, Acc=16.53%]\n",
      "Epoch 1/1:  13%|█▎        | 50/391 [01:40<11:28,  2.02s/it, Loss=1.7559, Acc=11.17%]\n",
      "Epoch 1/1:  13%|█▎        | 50/391 [01:41<11:29,  2.02s/it, Loss=1.5145, Acc=19.47%]\n",
      "Epoch 1/1:  13%|█▎        | 50/391 [01:40<11:28,  2.02s/it, Loss=1.2250, Acc=19.44%]\n",
      "Epoch 1/1:  13%|█▎        | 50/391 [01:40<11:28,  2.02s/it, Loss=1.2611, Acc=15.00%]\n",
      "Epoch 1/1:  13%|█▎        | 50/391 [01:40<11:28,  2.02s/it, Loss=0.6658, Acc=13.36%]\n",
      "Epoch 1/1:  13%|█▎        | 50/391 [01:41<11:29,  2.02s/it, Loss=1.2958, Acc=12.36%]\n",
      "Epoch 1/1:  13%|█▎        | 50/391 [01:41<11:29,  2.02s/it, Loss=0.3903, Acc=20.30%]\n",
      "Epoch 1/1:  13%|█▎        | 50/391 [01:41<11:31,  2.03s/it, Loss=1.0681, Acc=19.66%]\n",
      "Epoch 1/1:  13%|█▎        | 50/391 [01:41<11:29,  2.02s/it, Loss=1.4383, Acc=18.25%]\n",
      "Epoch 1/1:  13%|█▎        | 50/391 [01:41<11:29,  2.02s/it, Loss=0.1483, Acc=13.38%]\n",
      "Epoch 1/1:  13%|█▎        | 50/391 [01:40<11:28,  2.02s/it, Loss=2.0710, Acc=15.45%]\n",
      "Epoch 1/1:  13%|█▎        | 50/391 [01:41<11:29,  2.02s/it, Loss=1.4997, Acc=15.77%]\n",
      "Epoch 1/1:  13%|█▎        | 50/391 [01:40<11:27,  2.02s/it, Loss=1.5524, Acc=15.50%]\n"
     ]
    },
    {
     "data": {
      "text/plain": [
       "[(0.009176899194717408,\n",
       "  0.1093798279762268,\n",
       "  0.2829812169075012,\n",
       "  83.22928214073181,\n",
       "  tensor(0.1602, device='cuda:0')),\n",
       " (0.0023594468832015994,\n",
       "  0.9462930560112,\n",
       "  0.7444887757301331,\n",
       "  48.420181930065155,\n",
       "  tensor(0.1818, device='cuda:0')),\n",
       " (0.0001073598861694336,\n",
       "  0.2125471830368042,\n",
       "  0.6206677556037903,\n",
       "  42.446245431900024,\n",
       "  tensor(0.2339, device='cuda:0')),\n",
       " (0.007556940913200379,\n",
       "  0.8694360256195068,\n",
       "  0.9084545969963074,\n",
       "  40.27882248163223,\n",
       "  tensor(0.1288, device='cuda:0')),\n",
       " (0.008993620276451111,\n",
       "  0.4444413185119629,\n",
       "  0.19185703992843628,\n",
       "  98.52953815460205,\n",
       "  tensor(0.1478, device='cuda:0')),\n",
       " (0.00610435426235199,\n",
       "  0.1768862009048462,\n",
       "  0.06488102674484253,\n",
       "  105.27413606643677,\n",
       "  tensor(0.1717, device='cuda:0')),\n",
       " (0.008500646948814392,\n",
       "  0.6295808553695679,\n",
       "  0.293637216091156,\n",
       "  88.76784038543701,\n",
       "  tensor(0.1659, device='cuda:0')),\n",
       " (0.00948402762413025,\n",
       "  0.7624981999397278,\n",
       "  0.30410802364349365,\n",
       "  94.28015768527985,\n",
       "  tensor(0.1112, device='cuda:0')),\n",
       " (0.0035437464714050296,\n",
       "  0.9299547672271729,\n",
       "  0.37747156620025635,\n",
       "  78.99248385429382,\n",
       "  tensor(0.1949, device='cuda:0')),\n",
       " (0.0030188900232315063,\n",
       "  0.9167241454124451,\n",
       "  0.5212101340293884,\n",
       "  66.35372483730316,\n",
       "  tensor(0.1949, device='cuda:0')),\n",
       " (0.005061857700347901,\n",
       "  0.40446388721466064,\n",
       "  0.47867512702941895,\n",
       "  66.72534215450287,\n",
       "  tensor(0.1507, device='cuda:0')),\n",
       " (0.009673464298248292,\n",
       "  0.9386802315711975,\n",
       "  0.9357030391693115,\n",
       "  40.853102028369904,\n",
       "  tensor(0.1351, device='cuda:0')),\n",
       " (0.005367538928985596,\n",
       "  0.06835633516311646,\n",
       "  0.4240710139274597,\n",
       "  68.86935639381409,\n",
       "  tensor(0.1247, device='cuda:0')),\n",
       " (0.0008859574794769287,\n",
       "  0.31115037202835083,\n",
       "  0.8565988540649414,\n",
       "  21.499059289693832,\n",
       "  tensor(0.2025, device='cuda:0')),\n",
       " (0.002243383526802063,\n",
       "  0.6135085225105286,\n",
       "  0.5438668131828308,\n",
       "  59.85027480125427,\n",
       "  tensor(0.1972, device='cuda:0')),\n",
       " (0.004962559938430786,\n",
       "  0.11710453033447266,\n",
       "  0.2952001094818115,\n",
       "  79.1846672296524,\n",
       "  tensor(0.1826, device='cuda:0')),\n",
       " (0.006900798082351685,\n",
       "  0.2899962067604065,\n",
       "  0.9895918369293213,\n",
       "  9.965499863028526,\n",
       "  tensor(0.1331, device='cuda:0')),\n",
       " (0.009991188049316407,\n",
       "  0.5464460849761963,\n",
       "  0.21434509754180908,\n",
       "  98.89633584022522,\n",
       "  tensor(0.1530, device='cuda:0')),\n",
       " (0.008036066293716431,\n",
       "  0.9443094730377197,\n",
       "  0.4011040925979614,\n",
       "  82.27330923080444,\n",
       "  tensor(0.1596, device='cuda:0')),\n",
       " (0.008458815217018127,\n",
       "  0.5667831301689148,\n",
       "  0.312091588973999,\n",
       "  84.66894280910492,\n",
       "  tensor(0.1552, device='cuda:0'))]"
      ]
     },
     "execution_count": 11,
     "metadata": {},
     "output_type": "execute_result"
    }
   ],
   "source": [
    "#find best initial learning rate, temp, and alpha for vit_student\n",
    "lr_tests = []\n",
    "for i in range(20):\n",
    "  model = init_model(device)\n",
    "  lr = torch.rand(1).item() * 1e-2\n",
    "  temp, alpha = torch.rand(1).item(), torch.rand(1).item()\n",
    "  loss, acc = train(model, trainloader, testloader,\n",
    "                    device, learning_rate=lr, weight_decay=1e-2,\n",
    "                    num_epochs=1, teacher_model=resnet_teacher,\n",
    "                    temperature=temp, alpha=alpha, premature_stop=50)\n",
    "  lr_tests.append((lr, temp, alpha, loss, acc))\n",
    "\n",
    "lr_tests"
   ]
  },
  {
   "cell_type": "code",
   "execution_count": null,
   "metadata": {
    "id": "b6IU4qIrK2Ue"
   },
   "outputs": [],
   "source": [
    "'''\n",
    "best: (0.0001073598861694336,\n",
    "  0.2125471830368042,\n",
    "  0.6206677556037903,\n",
    "  42.446245431900024,\n",
    "  tensor(0.2339, device='cuda:0')),\n",
    "'''"
   ]
  },
  {
   "cell_type": "code",
   "execution_count": 21,
   "metadata": {
    "colab": {
     "base_uri": "https://localhost:8080/"
    },
    "executionInfo": {
     "elapsed": 481,
     "status": "ok",
     "timestamp": 1752069550906,
     "user": {
      "displayName": "Jacob Dunning",
      "userId": "17361546069656016098"
     },
     "user_tz": 360
    },
    "id": "BUytnnORyWjd",
    "outputId": "10ad6009-247f-490c-a048-5a84c1090934"
   },
   "outputs": [
    {
     "name": "stdout",
     "output_type": "stream",
     "text": [
      "vit_normal and vit_student parameter count: 5,526,346\n",
      "resnet18 teacher parameter count: 11,173,962\n",
      "\n",
      "\n"
     ]
    }
   ],
   "source": [
    "#initialize models\n",
    "vit_normal = init_model(device)\n",
    "vit_student = init_model(device)\n",
    "resnet_teacher = get_teacher_model(device)\n",
    "\n",
    "vit_param_count = sum([p.numel() for p in vit_normal.parameters()])\n",
    "resnet_param_count = sum([p.numel() for p in resnet_teacher.parameters()])\n",
    "print(f'vit_normal and vit_student parameter count: {vit_param_count:,}')\n",
    "print(f'resnet18 teacher parameter count: {resnet_param_count:,}')\n",
    "print('\\n')"
   ]
  },
  {
   "cell_type": "code",
   "execution_count": 14,
   "metadata": {
    "colab": {
     "base_uri": "https://localhost:8080/"
    },
    "executionInfo": {
     "elapsed": 19464,
     "status": "ok",
     "timestamp": 1752064402628,
     "user": {
      "displayName": "Jacob Dunning",
      "userId": "17361546069656016098"
     },
     "user_tz": 360
    },
    "id": "zDcjfpXuy03m",
    "outputId": "ee8ecd82-e9d6-42db-e762-09b95ab037b3"
   },
   "outputs": [
    {
     "name": "stdout",
     "output_type": "stream",
     "text": [
      "evaluating accuracy of default parameters on CIFAR10 test set...\n",
      "initial accuracy 0.11169999837875366\n"
     ]
    }
   ],
   "source": [
    "#show initial performance of model before training\n",
    "print('evaluating accuracy of default parameters on CIFAR10 test set...')\n",
    "acc = eval_model(vit_normal, testloader, device)\n",
    "print(f'initial accuracy {acc:,}')"
   ]
  },
  {
   "cell_type": "code",
   "execution_count": 20,
   "metadata": {
    "executionInfo": {
     "elapsed": 7,
     "status": "ok",
     "timestamp": 1752069545838,
     "user": {
      "displayName": "Jacob Dunning",
      "userId": "17361546069656016098"
     },
     "user_tz": 360
    },
    "id": "jvPkXzVEyjYP"
   },
   "outputs": [],
   "source": [
    "#define hyperparams/training constants\n",
    "WEIGHT_DECAY = 1e-2\n",
    "NUM_EPOCHS = 5"
   ]
  },
  {
   "cell_type": "code",
   "execution_count": 18,
   "metadata": {
    "colab": {
     "base_uri": "https://localhost:8080/"
    },
    "executionInfo": {
     "elapsed": 2081334,
     "status": "ok",
     "timestamp": 1752067123629,
     "user": {
      "displayName": "Jacob Dunning",
      "userId": "17361546069656016098"
     },
     "user_tz": 360
    },
    "id": "mnsTqO8LSjBc",
    "outputId": "ee5cc160-ea50-4376-bf11-a2b344d746b5"
   },
   "outputs": [
    {
     "name": "stdout",
     "output_type": "stream",
     "text": [
      "training vit using normal pre-training approach\n"
     ]
    },
    {
     "name": "stderr",
     "output_type": "stream",
     "text": [
      "Epoch 1/10: 100%|██████████| 391/391 [03:06<00:00,  2.10it/s, Loss=1.5480, Acc=30.55%]\n"
     ]
    },
    {
     "name": "stdout",
     "output_type": "stream",
     "text": [
      "Epoch 1: Train CELoss: 1.8496, Train Acc: 30.55%, Test Acc: 0.38%\n"
     ]
    },
    {
     "name": "stderr",
     "output_type": "stream",
     "text": [
      "Epoch 2/10: 100%|██████████| 391/391 [03:09<00:00,  2.06it/s, Loss=1.4876, Acc=42.53%]\n"
     ]
    },
    {
     "name": "stdout",
     "output_type": "stream",
     "text": [
      "Epoch 2: Train CELoss: 1.5649, Train Acc: 42.53%, Test Acc: 0.45%\n"
     ]
    },
    {
     "name": "stderr",
     "output_type": "stream",
     "text": [
      "Epoch 3/10: 100%|██████████| 391/391 [03:09<00:00,  2.06it/s, Loss=1.3978, Acc=48.14%]\n"
     ]
    },
    {
     "name": "stdout",
     "output_type": "stream",
     "text": [
      "Epoch 3: Train CELoss: 1.4213, Train Acc: 48.14%, Test Acc: 0.50%\n"
     ]
    },
    {
     "name": "stderr",
     "output_type": "stream",
     "text": [
      "Epoch 4/10: 100%|██████████| 391/391 [03:09<00:00,  2.06it/s, Loss=1.1354, Acc=52.10%]\n"
     ]
    },
    {
     "name": "stdout",
     "output_type": "stream",
     "text": [
      "Epoch 4: Train CELoss: 1.3242, Train Acc: 52.10%, Test Acc: 0.52%\n"
     ]
    },
    {
     "name": "stderr",
     "output_type": "stream",
     "text": [
      "Epoch 5/10: 100%|██████████| 391/391 [03:09<00:00,  2.06it/s, Loss=1.2215, Acc=54.95%]\n"
     ]
    },
    {
     "name": "stdout",
     "output_type": "stream",
     "text": [
      "Epoch 5: Train CELoss: 1.2436, Train Acc: 54.95%, Test Acc: 0.53%\n"
     ]
    },
    {
     "name": "stderr",
     "output_type": "stream",
     "text": [
      "Epoch 6/10: 100%|██████████| 391/391 [03:09<00:00,  2.06it/s, Loss=1.3412, Acc=57.88%]\n"
     ]
    },
    {
     "name": "stdout",
     "output_type": "stream",
     "text": [
      "Epoch 6: Train CELoss: 1.1639, Train Acc: 57.88%, Test Acc: 0.57%\n"
     ]
    },
    {
     "name": "stderr",
     "output_type": "stream",
     "text": [
      "Epoch 7/10: 100%|██████████| 391/391 [03:09<00:00,  2.06it/s, Loss=1.2831, Acc=61.15%]\n"
     ]
    },
    {
     "name": "stdout",
     "output_type": "stream",
     "text": [
      "Epoch 7: Train CELoss: 1.0798, Train Acc: 61.15%, Test Acc: 0.58%\n"
     ]
    },
    {
     "name": "stderr",
     "output_type": "stream",
     "text": [
      "Epoch 8/10: 100%|██████████| 391/391 [03:09<00:00,  2.07it/s, Loss=1.0087, Acc=64.20%]\n"
     ]
    },
    {
     "name": "stdout",
     "output_type": "stream",
     "text": [
      "Epoch 8: Train CELoss: 0.9962, Train Acc: 64.20%, Test Acc: 0.60%\n"
     ]
    },
    {
     "name": "stderr",
     "output_type": "stream",
     "text": [
      "Epoch 9/10: 100%|██████████| 391/391 [03:09<00:00,  2.06it/s, Loss=1.0264, Acc=67.51%]\n"
     ]
    },
    {
     "name": "stdout",
     "output_type": "stream",
     "text": [
      "Epoch 9: Train CELoss: 0.9134, Train Acc: 67.51%, Test Acc: 0.61%\n"
     ]
    },
    {
     "name": "stderr",
     "output_type": "stream",
     "text": [
      "Epoch 10/10: 100%|██████████| 391/391 [03:08<00:00,  2.07it/s, Loss=0.6833, Acc=69.92%]\n"
     ]
    },
    {
     "name": "stdout",
     "output_type": "stream",
     "text": [
      "Epoch 10: Train CELoss: 0.8489, Train Acc: 69.92%, Test Acc: 0.62%\n"
     ]
    }
   ],
   "source": [
    "#learning_rate = 4e-3\n",
    "learning_rate = 1e-3\n",
    "\n",
    "#train vit_normal, store results\n",
    "print('training vit using normal pre-training approach')\n",
    "vit_normal_results = train(\n",
    "  vit_normal,\n",
    "  trainloader,\n",
    "  testloader,\n",
    "  device,\n",
    "  learning_rate=learning_rate,\n",
    "  weight_decay=WEIGHT_DECAY,\n",
    "  num_epochs=NUM_EPOCHS)\n",
    "ts = datetime.datetime.now().strftime('%Y%m%d_%H%M%S')\n",
    "save_stats(vit_normal_results, 'vit_normal', ts)\n",
    "torch.save(vit_normal.state_dict(), f'/content/drive/My Drive/ML + Robotics/vit_normal_{ts}.pt')\n"
   ]
  },
  {
   "cell_type": "code",
   "execution_count": 22,
   "metadata": {
    "colab": {
     "base_uri": "https://localhost:8080/"
    },
    "executionInfo": {
     "elapsed": 3990734,
     "status": "ok",
     "timestamp": 1752073545071,
     "user": {
      "displayName": "Jacob Dunning",
      "userId": "17361546069656016098"
     },
     "user_tz": 360
    },
    "id": "JHfFJpVbSl33",
    "outputId": "2f1ae617-aaee-42b5-e57f-f3ce7e78133c"
   },
   "outputs": [
    {
     "name": "stdout",
     "output_type": "stream",
     "text": [
      "training vit using distillation/student-teacher approach\n"
     ]
    },
    {
     "name": "stderr",
     "output_type": "stream",
     "text": [
      "Epoch 1/5: 100%|██████████| 391/391 [13:00<00:00,  2.00s/it, Loss=0.7125, Acc=32.40%]\n"
     ]
    },
    {
     "name": "stdout",
     "output_type": "stream",
     "text": [
      "Epoch 1: Train CELoss: 0.7524, Train Acc: 32.40%, Test Acc: 0.38%\n"
     ]
    },
    {
     "name": "stderr",
     "output_type": "stream",
     "text": [
      "Epoch 2/5: 100%|██████████| 391/391 [12:59<00:00,  1.99s/it, Loss=0.6433, Acc=43.66%]\n"
     ]
    },
    {
     "name": "stdout",
     "output_type": "stream",
     "text": [
      "Epoch 2: Train CELoss: 0.6698, Train Acc: 43.66%, Test Acc: 0.46%\n"
     ]
    },
    {
     "name": "stderr",
     "output_type": "stream",
     "text": [
      "Epoch 3/5: 100%|██████████| 391/391 [12:59<00:00,  1.99s/it, Loss=0.6622, Acc=50.65%]\n"
     ]
    },
    {
     "name": "stdout",
     "output_type": "stream",
     "text": [
      "Epoch 3: Train CELoss: 0.6234, Train Acc: 50.65%, Test Acc: 0.52%\n"
     ]
    },
    {
     "name": "stderr",
     "output_type": "stream",
     "text": [
      "Epoch 4/5: 100%|██████████| 391/391 [12:59<00:00,  1.99s/it, Loss=0.6161, Acc=55.14%]\n"
     ]
    },
    {
     "name": "stdout",
     "output_type": "stream",
     "text": [
      "Epoch 4: Train CELoss: 0.5888, Train Acc: 55.14%, Test Acc: 0.56%\n"
     ]
    },
    {
     "name": "stderr",
     "output_type": "stream",
     "text": [
      "Epoch 5/5: 100%|██████████| 391/391 [12:58<00:00,  1.99s/it, Loss=0.5758, Acc=59.14%]\n"
     ]
    },
    {
     "name": "stdout",
     "output_type": "stream",
     "text": [
      "Epoch 5: Train CELoss: 0.5618, Train Acc: 59.14%, Test Acc: 0.58%\n"
     ]
    }
   ],
   "source": [
    "'''(0.0001073598861694336,\n",
    "  0.2125471830368042,\n",
    "  0.6206677556037903,\n",
    "  42.446245431900024,\n",
    "  tensor(0.2339, device='cuda:0')),'''\n",
    "\n",
    "student_learning_rate = 1e-4\n",
    "temperature = 0.212\n",
    "alpha=0.62\n",
    "\n",
    "#use train vit_student with teacher model\n",
    "print('training vit using distillation/student-teacher approach')\n",
    "vit_student_results = train(\n",
    "  vit_normal,\n",
    "  trainloader,\n",
    "  testloader,\n",
    "  device,\n",
    "  learning_rate=student_learning_rate,\n",
    "  weight_decay=WEIGHT_DECAY,\n",
    "  num_epochs=NUM_EPOCHS,\n",
    "  teacher_model=resnet_teacher,\n",
    "  temperature=temperature,\n",
    "  alpha=alpha)\n",
    "ts = datetime.datetime.now().strftime('%Y%m%d_%H%M%S')\n",
    "save_stats(vit_student_results, 'vit_student', ts)\n",
    "torch.save(vit_student.state_dict(), f'/content/drive/My Drive/ML + Robotics/vit_normal_{ts}.pt')"
   ]
  },
  {
   "cell_type": "code",
   "execution_count": null,
   "metadata": {
    "id": "1Mq8nHVzM9L9"
   },
   "outputs": [],
   "source": []
  },
  {
   "cell_type": "markdown",
   "metadata": {
    "id": "AuJt3RTzzags"
   },
   "source": [
    "### Comparing Performance metrics"
   ]
  }
 ],
 "metadata": {
  "accelerator": "GPU",
  "colab": {
   "authorship_tag": "ABX9TyO8wQqmKTc2FxHGi+OJKDcQ",
   "gpuType": "T4",
   "provenance": []
  },
  "kernelspec": {
   "display_name": ".venv",
   "language": "python",
   "name": "python3"
  },
  "language_info": {
   "name": "python",
   "version": "3.12.3"
  }
 },
 "nbformat": 4,
 "nbformat_minor": 0
}

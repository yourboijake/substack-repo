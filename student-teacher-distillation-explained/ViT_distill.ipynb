{
 "cells": [
  {
   "cell_type": "code",
   "execution_count": 1,
   "metadata": {
    "colab": {
     "base_uri": "https://localhost:8080/"
    },
    "executionInfo": {
     "elapsed": 114354,
     "status": "ok",
     "timestamp": 1752063241865,
     "user": {
      "displayName": "Jacob Dunning",
      "userId": "17361546069656016098"
     },
     "user_tz": 360
    },
    "id": "uli0YfNhv4Qq",
    "outputId": "ed3d0984-039f-49a0-9f81-f47c7ada9689"
   },
   "outputs": [
    {
     "name": "stdout",
     "output_type": "stream",
     "text": [
      "Requirement already satisfied: torch in /home/jacob/Desktop/programming/substack/substack-repo/.venv/lib/python3.12/site-packages (2.7.1+xpu)\n",
      "Requirement already satisfied: torchvision in /home/jacob/Desktop/programming/substack/substack-repo/.venv/lib/python3.12/site-packages (0.22.1+xpu)\n",
      "Requirement already satisfied: tqdm in /home/jacob/Desktop/programming/substack/substack-repo/.venv/lib/python3.12/site-packages (4.67.1)\n",
      "Requirement already satisfied: timm in /home/jacob/Desktop/programming/substack/substack-repo/.venv/lib/python3.12/site-packages (1.0.16)\n",
      "Requirement already satisfied: detectors in /home/jacob/Desktop/programming/substack/substack-repo/.venv/lib/python3.12/site-packages (0.1.11)\n",
      "Requirement already satisfied: filelock in /home/jacob/Desktop/programming/substack/substack-repo/.venv/lib/python3.12/site-packages (from torch) (3.18.0)\n",
      "Requirement already satisfied: typing-extensions>=4.10.0 in /home/jacob/Desktop/programming/substack/substack-repo/.venv/lib/python3.12/site-packages (from torch) (4.14.1)\n",
      "Requirement already satisfied: setuptools in /home/jacob/Desktop/programming/substack/substack-repo/.venv/lib/python3.12/site-packages (from torch) (80.9.0)\n",
      "Requirement already satisfied: sympy>=1.13.3 in /home/jacob/Desktop/programming/substack/substack-repo/.venv/lib/python3.12/site-packages (from torch) (1.14.0)\n",
      "Requirement already satisfied: networkx in /home/jacob/Desktop/programming/substack/substack-repo/.venv/lib/python3.12/site-packages (from torch) (3.5)\n",
      "Requirement already satisfied: jinja2 in /home/jacob/Desktop/programming/substack/substack-repo/.venv/lib/python3.12/site-packages (from torch) (3.1.6)\n",
      "Requirement already satisfied: fsspec in /home/jacob/Desktop/programming/substack/substack-repo/.venv/lib/python3.12/site-packages (from torch) (2025.5.1)\n",
      "Requirement already satisfied: intel-cmplr-lib-rt==2025.0.4 in /home/jacob/Desktop/programming/substack/substack-repo/.venv/lib/python3.12/site-packages (from torch) (2025.0.4)\n",
      "Requirement already satisfied: intel-cmplr-lib-ur==2025.0.4 in /home/jacob/Desktop/programming/substack/substack-repo/.venv/lib/python3.12/site-packages (from torch) (2025.0.4)\n",
      "Requirement already satisfied: intel-cmplr-lic-rt==2025.0.4 in /home/jacob/Desktop/programming/substack/substack-repo/.venv/lib/python3.12/site-packages (from torch) (2025.0.4)\n",
      "Requirement already satisfied: intel-sycl-rt==2025.0.4 in /home/jacob/Desktop/programming/substack/substack-repo/.venv/lib/python3.12/site-packages (from torch) (2025.0.4)\n",
      "Requirement already satisfied: tcmlib==1.2.0 in /home/jacob/Desktop/programming/substack/substack-repo/.venv/lib/python3.12/site-packages (from torch) (1.2.0)\n",
      "Requirement already satisfied: umf==0.9.1 in /home/jacob/Desktop/programming/substack/substack-repo/.venv/lib/python3.12/site-packages (from torch) (0.9.1)\n",
      "Requirement already satisfied: intel-pti==0.10.1 in /home/jacob/Desktop/programming/substack/substack-repo/.venv/lib/python3.12/site-packages (from torch) (0.10.1)\n",
      "Requirement already satisfied: pytorch-triton-xpu==3.3.1 in /home/jacob/Desktop/programming/substack/substack-repo/.venv/lib/python3.12/site-packages (from torch) (3.3.1)\n",
      "Requirement already satisfied: numpy in /home/jacob/Desktop/programming/substack/substack-repo/.venv/lib/python3.12/site-packages (from torchvision) (2.3.1)\n",
      "Requirement already satisfied: pillow!=8.3.*,>=5.3.0 in /home/jacob/Desktop/programming/substack/substack-repo/.venv/lib/python3.12/site-packages (from torchvision) (11.3.0)\n",
      "Requirement already satisfied: pyyaml in /home/jacob/Desktop/programming/substack/substack-repo/.venv/lib/python3.12/site-packages (from timm) (6.0.2)\n",
      "Requirement already satisfied: huggingface_hub in /home/jacob/Desktop/programming/substack/substack-repo/.venv/lib/python3.12/site-packages (from timm) (0.33.2)\n",
      "Requirement already satisfied: safetensors in /home/jacob/Desktop/programming/substack/substack-repo/.venv/lib/python3.12/site-packages (from timm) (0.5.3)\n",
      "Requirement already satisfied: optuna in /home/jacob/Desktop/programming/substack/substack-repo/.venv/lib/python3.12/site-packages (from detectors) (4.4.0)\n",
      "Requirement already satisfied: scikit-learn in /home/jacob/Desktop/programming/substack/substack-repo/.venv/lib/python3.12/site-packages (from detectors) (1.7.0)\n",
      "Requirement already satisfied: scikit-image in /home/jacob/Desktop/programming/substack/substack-repo/.venv/lib/python3.12/site-packages (from detectors) (0.25.2)\n",
      "Requirement already satisfied: scipy in /home/jacob/Desktop/programming/substack/substack-repo/.venv/lib/python3.12/site-packages (from detectors) (1.16.0)\n",
      "Requirement already satisfied: accelerate in /home/jacob/Desktop/programming/substack/substack-repo/.venv/lib/python3.12/site-packages (from detectors) (1.8.1)\n",
      "Requirement already satisfied: psutil in /home/jacob/Desktop/programming/substack/substack-repo/.venv/lib/python3.12/site-packages (from detectors) (7.0.0)\n",
      "Requirement already satisfied: pandas in /home/jacob/Desktop/programming/substack/substack-repo/.venv/lib/python3.12/site-packages (from detectors) (2.3.0)\n",
      "Requirement already satisfied: wilds in /home/jacob/Desktop/programming/substack/substack-repo/.venv/lib/python3.12/site-packages (from detectors) (2.0.0)\n",
      "Requirement already satisfied: faiss-cpu in /home/jacob/Desktop/programming/substack/substack-repo/.venv/lib/python3.12/site-packages (from detectors) (1.11.0)\n",
      "Requirement already satisfied: matplotlib in /home/jacob/Desktop/programming/substack/substack-repo/.venv/lib/python3.12/site-packages (from detectors) (3.10.3)\n",
      "Requirement already satisfied: mpmath<1.4,>=1.1.0 in /home/jacob/Desktop/programming/substack/substack-repo/.venv/lib/python3.12/site-packages (from sympy>=1.13.3->torch) (1.3.0)\n",
      "Requirement already satisfied: packaging>=20.0 in /home/jacob/Desktop/programming/substack/substack-repo/.venv/lib/python3.12/site-packages (from accelerate->detectors) (25.0)\n",
      "Requirement already satisfied: requests in /home/jacob/Desktop/programming/substack/substack-repo/.venv/lib/python3.12/site-packages (from huggingface_hub->timm) (2.32.4)\n",
      "Requirement already satisfied: hf-xet<2.0.0,>=1.1.2 in /home/jacob/Desktop/programming/substack/substack-repo/.venv/lib/python3.12/site-packages (from huggingface_hub->timm) (1.1.5)\n",
      "Requirement already satisfied: MarkupSafe>=2.0 in /home/jacob/Desktop/programming/substack/substack-repo/.venv/lib/python3.12/site-packages (from jinja2->torch) (3.0.2)\n",
      "Requirement already satisfied: contourpy>=1.0.1 in /home/jacob/Desktop/programming/substack/substack-repo/.venv/lib/python3.12/site-packages (from matplotlib->detectors) (1.3.2)\n",
      "Requirement already satisfied: cycler>=0.10 in /home/jacob/Desktop/programming/substack/substack-repo/.venv/lib/python3.12/site-packages (from matplotlib->detectors) (0.12.1)\n",
      "Requirement already satisfied: fonttools>=4.22.0 in /home/jacob/Desktop/programming/substack/substack-repo/.venv/lib/python3.12/site-packages (from matplotlib->detectors) (4.58.5)\n",
      "Requirement already satisfied: kiwisolver>=1.3.1 in /home/jacob/Desktop/programming/substack/substack-repo/.venv/lib/python3.12/site-packages (from matplotlib->detectors) (1.4.8)\n",
      "Requirement already satisfied: pyparsing>=2.3.1 in /home/jacob/Desktop/programming/substack/substack-repo/.venv/lib/python3.12/site-packages (from matplotlib->detectors) (3.2.3)\n",
      "Requirement already satisfied: python-dateutil>=2.7 in /home/jacob/Desktop/programming/substack/substack-repo/.venv/lib/python3.12/site-packages (from matplotlib->detectors) (2.9.0.post0)\n",
      "Requirement already satisfied: six>=1.5 in /home/jacob/Desktop/programming/substack/substack-repo/.venv/lib/python3.12/site-packages (from python-dateutil>=2.7->matplotlib->detectors) (1.17.0)\n",
      "Requirement already satisfied: alembic>=1.5.0 in /home/jacob/Desktop/programming/substack/substack-repo/.venv/lib/python3.12/site-packages (from optuna->detectors) (1.16.2)\n",
      "Requirement already satisfied: colorlog in /home/jacob/Desktop/programming/substack/substack-repo/.venv/lib/python3.12/site-packages (from optuna->detectors) (6.9.0)\n",
      "Requirement already satisfied: sqlalchemy>=1.4.2 in /home/jacob/Desktop/programming/substack/substack-repo/.venv/lib/python3.12/site-packages (from optuna->detectors) (2.0.41)\n",
      "Requirement already satisfied: Mako in /home/jacob/Desktop/programming/substack/substack-repo/.venv/lib/python3.12/site-packages (from alembic>=1.5.0->optuna->detectors) (1.3.10)\n",
      "Requirement already satisfied: greenlet>=1 in /home/jacob/Desktop/programming/substack/substack-repo/.venv/lib/python3.12/site-packages (from sqlalchemy>=1.4.2->optuna->detectors) (3.2.3)\n",
      "Requirement already satisfied: pytz>=2020.1 in /home/jacob/Desktop/programming/substack/substack-repo/.venv/lib/python3.12/site-packages (from pandas->detectors) (2025.2)\n",
      "Requirement already satisfied: tzdata>=2022.7 in /home/jacob/Desktop/programming/substack/substack-repo/.venv/lib/python3.12/site-packages (from pandas->detectors) (2025.2)\n",
      "Requirement already satisfied: charset_normalizer<4,>=2 in /home/jacob/Desktop/programming/substack/substack-repo/.venv/lib/python3.12/site-packages (from requests->huggingface_hub->timm) (3.4.2)\n",
      "Requirement already satisfied: idna<4,>=2.5 in /home/jacob/Desktop/programming/substack/substack-repo/.venv/lib/python3.12/site-packages (from requests->huggingface_hub->timm) (3.10)\n",
      "Requirement already satisfied: urllib3<3,>=1.21.1 in /home/jacob/Desktop/programming/substack/substack-repo/.venv/lib/python3.12/site-packages (from requests->huggingface_hub->timm) (2.5.0)\n",
      "Requirement already satisfied: certifi>=2017.4.17 in /home/jacob/Desktop/programming/substack/substack-repo/.venv/lib/python3.12/site-packages (from requests->huggingface_hub->timm) (2025.6.15)\n",
      "Requirement already satisfied: imageio!=2.35.0,>=2.33 in /home/jacob/Desktop/programming/substack/substack-repo/.venv/lib/python3.12/site-packages (from scikit-image->detectors) (2.37.0)\n",
      "Requirement already satisfied: tifffile>=2022.8.12 in /home/jacob/Desktop/programming/substack/substack-repo/.venv/lib/python3.12/site-packages (from scikit-image->detectors) (2025.6.11)\n",
      "Requirement already satisfied: lazy-loader>=0.4 in /home/jacob/Desktop/programming/substack/substack-repo/.venv/lib/python3.12/site-packages (from scikit-image->detectors) (0.4)\n",
      "Requirement already satisfied: joblib>=1.2.0 in /home/jacob/Desktop/programming/substack/substack-repo/.venv/lib/python3.12/site-packages (from scikit-learn->detectors) (1.5.1)\n",
      "Requirement already satisfied: threadpoolctl>=3.1.0 in /home/jacob/Desktop/programming/substack/substack-repo/.venv/lib/python3.12/site-packages (from scikit-learn->detectors) (3.6.0)\n",
      "Requirement already satisfied: ogb>=1.2.6 in /home/jacob/Desktop/programming/substack/substack-repo/.venv/lib/python3.12/site-packages (from wilds->detectors) (1.3.6)\n",
      "Requirement already satisfied: outdated>=0.2.0 in /home/jacob/Desktop/programming/substack/substack-repo/.venv/lib/python3.12/site-packages (from wilds->detectors) (0.2.2)\n",
      "Requirement already satisfied: littleutils in /home/jacob/Desktop/programming/substack/substack-repo/.venv/lib/python3.12/site-packages (from outdated>=0.2.0->wilds->detectors) (0.2.4)\n"
     ]
    },
    {
     "name": "stderr",
     "output_type": "stream",
     "text": [
      "/home/jacob/Desktop/programming/substack/substack-repo/.venv/lib/python3.12/site-packages/tqdm/auto.py:21: TqdmWarning: IProgress not found. Please update jupyter and ipywidgets. See https://ipywidgets.readthedocs.io/en/stable/user_install.html\n",
      "  from .autonotebook import tqdm as notebook_tqdm\n",
      "/home/jacob/Desktop/programming/substack/substack-repo/.venv/lib/python3.12/site-packages/outdated/__init__.py:36: UserWarning: pkg_resources is deprecated as an API. See https://setuptools.pypa.io/en/latest/pkg_resources.html. The pkg_resources package is slated for removal as early as 2025-11-30. Refrain from using this package or pin to Setuptools<81.\n",
      "  from pkg_resources import parse_version\n"
     ]
    }
   ],
   "source": [
    "!pip install torch torchvision tqdm timm detectors\n",
    "import torch\n",
    "import torch.nn as nn\n",
    "import torch.nn.functional as F\n",
    "import torch.optim as optim\n",
    "from torch.utils.data import DataLoader, Dataset\n",
    "import torchvision\n",
    "import torchvision.transforms as transforms\n",
    "\n",
    "from tqdm import tqdm\n",
    "\n",
    "import timm\n",
    "import detectors\n",
    "import datetime\n"
   ]
  },
  {
   "cell_type": "markdown",
   "metadata": {
    "id": "VyYdSAuxzIBu"
   },
   "source": [
    "### Retrieve Data and Model Objects"
   ]
  },
  {
   "cell_type": "code",
   "execution_count": 2,
   "metadata": {
    "executionInfo": {
     "elapsed": 5,
     "status": "ok",
     "timestamp": 1752063276735,
     "user": {
      "displayName": "Jacob Dunning",
      "userId": "17361546069656016098"
     },
     "user_tz": 360
    },
    "id": "B5tzmI0cwOZT"
   },
   "outputs": [],
   "source": [
    "def get_cifar10_data(batch_size):\n",
    "  \"\"\"Get CIFAR-10 data loaders with appropriate transforms\"\"\"\n",
    "  transform = transforms.Compose([\n",
    "#    transforms.Resize(224),\n",
    "    transforms.ToTensor(),\n",
    "    transforms.Normalize(mean=[0.49139968, 0.48215827 ,0.44653124],\n",
    "                         std=[0.24703233, 0.24348505, 0.26158768])\n",
    "  ])\n",
    "\n",
    "  trainset = torchvision.datasets.CIFAR10(\n",
    "    root='./data', train=True, download=True, transform=transform\n",
    "  )\n",
    "  testset = torchvision.datasets.CIFAR10(\n",
    "    root='./data', train=False, download=True, transform=transform\n",
    "  )\n",
    "\n",
    "  trainloader = DataLoader(trainset, batch_size=batch_size,\n",
    "                           shuffle=True, num_workers=2)\n",
    "  testloader = DataLoader(testset, batch_size=batch_size,\n",
    "                          shuffle=False, num_workers=2)\n",
    "\n",
    "  return trainset, testset, trainloader, testloader\n",
    "\n"
   ]
  },
  {
   "cell_type": "code",
   "execution_count": 3,
   "metadata": {
    "executionInfo": {
     "elapsed": 2,
     "status": "ok",
     "timestamp": 1752063279646,
     "user": {
      "displayName": "Jacob Dunning",
      "userId": "17361546069656016098"
     },
     "user_tz": 360
    },
    "id": "hgMix2CYyEqA"
   },
   "outputs": [],
   "source": [
    "def init_model(device):\n",
    "  '''\n",
    "  initialize vit tiny patch16_224 model from timm, no pretraining\n",
    "  '''\n",
    "  model = timm.create_model('vit_tiny_patch16_224',\n",
    "                            pretrained=False, num_classes=10)\n",
    "  model.to(device)\n",
    "  return model\n",
    "\n",
    "def get_teacher_model(device):\n",
    "  '''\n",
    "  get resnet18 teacher model from timm, with pretrained weights\n",
    "  '''\n",
    "  resnet18 = timm.create_model(\"resnet18_cifar10\", pretrained=True)\n",
    "  #don't want to accidentally update params during training\n",
    "  for p in resnet18.parameters():\n",
    "    p.requires_grad = False\n",
    "  resnet18.to(device)\n",
    "  return resnet18"
   ]
  },
  {
   "cell_type": "markdown",
   "metadata": {
    "id": "WBgPzA3IzSJ2"
   },
   "source": [
    "### Define eval and train functions"
   ]
  },
  {
   "cell_type": "code",
   "execution_count": 4,
   "metadata": {
    "executionInfo": {
     "elapsed": 2,
     "status": "ok",
     "timestamp": 1752063281428,
     "user": {
      "displayName": "Jacob Dunning",
      "userId": "17361546069656016098"
     },
     "user_tz": 360
    },
    "id": "9dvwflEiy7_U"
   },
   "outputs": [],
   "source": [
    "#accuracy of classification\n",
    "def eval_model(model, testloader, device):\n",
    "  model.eval()\n",
    "  correct = 0\n",
    "  total = 0\n",
    "  with torch.no_grad():\n",
    "    for inputs, labels in testloader:\n",
    "      inputs, labels = inputs.to(device), labels.to(device)\n",
    "      outputs = model(inputs)\n",
    "      preds = outputs.argmax(dim=-1)\n",
    "      correct += preds.eq(labels).sum()\n",
    "      total += inputs.shape[0]\n",
    "  return correct / float(total)"
   ]
  },
  {
   "cell_type": "code",
   "execution_count": 5,
   "metadata": {
    "executionInfo": {
     "elapsed": 12,
     "status": "ok",
     "timestamp": 1752063283566,
     "user": {
      "displayName": "Jacob Dunning",
      "userId": "17361546069656016098"
     },
     "user_tz": 360
    },
    "id": "_fZ6Kg0nzFOH"
   },
   "outputs": [],
   "source": [
    "def train(\n",
    "  model,\n",
    "  trainloader,\n",
    "  testloader,\n",
    "  device,\n",
    "  learning_rate,\n",
    "  weight_decay,\n",
    "  num_epochs,\n",
    "  teacher_model=None,\n",
    "  temperature=0.5,\n",
    "  alpha=0.5,\n",
    "  premature_stop=None):\n",
    "  optimizer = optim.AdamW(params=model.parameters(), lr=learning_rate, weight_decay=weight_decay)\n",
    "  ce_loss_criterion = nn.CrossEntropyLoss()\n",
    "  kld_loss_criterion = nn.KLDivLoss(reduction='batchmean')\n",
    "  scheduler = optim.lr_scheduler.CosineAnnealingLR(optimizer, T_max=num_epochs)\n",
    "\n",
    "  train_epoch_losses, train_epoch_acc, test_epoch_acc = [], [], []\n",
    "  epoch_values, iters, train_losses, train_acc = [], [], [], []\n",
    "\n",
    "  for epoch in range(num_epochs):\n",
    "    total_loss = 0.0\n",
    "    correct = 0\n",
    "    total = 0\n",
    "    model.train()\n",
    "\n",
    "    pbar = tqdm(trainloader, desc=f'Epoch {epoch+1}/{num_epochs}')\n",
    "    for batch_idx, (inputs, labels) in enumerate(pbar):\n",
    "      #forward and backward pass\n",
    "      inputs, labels = inputs.to(device), labels.to(device)\n",
    "      outputs = model(inputs)\n",
    "      if teacher_model:\n",
    "        with torch.no_grad():\n",
    "          soft_labels = F.softmax(teacher_model(inputs) / temperature, dim=1) #get soft labels from teacher model\n",
    "        soft_preds = F.log_softmax(outputs / temperature, dim=1)\n",
    "        kld_loss = kld_loss_criterion(soft_preds, soft_labels) * (temperature ** 2)\n",
    "        ce_loss = ce_loss_criterion(outputs, labels)\n",
    "        loss = alpha * kld_loss + (1 - alpha) * ce_loss #combine CELoss and KL-Divergence Loss\n",
    "      else:\n",
    "        loss = ce_loss_criterion(outputs, labels)\n",
    "      optimizer.zero_grad()\n",
    "      loss.backward()\n",
    "      optimizer.step()\n",
    "\n",
    "      #update running statistics\n",
    "      total_loss += loss.item()\n",
    "      preds = outputs.argmax(dim=-1)\n",
    "      correct += preds.eq(labels).sum()\n",
    "      total += labels.size(0)\n",
    "      if premature_stop:\n",
    "        if batch_idx >= premature_stop: return total_loss, correct / float(total)\n",
    "\n",
    "      #update progress bar\n",
    "      pbar.set_postfix({\n",
    "        'Loss': f'{loss.item():.4f}',\n",
    "        'Acc': f'{100.*correct/total:.2f}%'\n",
    "      })\n",
    "      epoch_values.append(epoch)\n",
    "      iters.append(batch_idx)\n",
    "      train_losses.append(loss.item())\n",
    "      train_acc.append(correct / float(total))\n",
    "\n",
    "    # update learning rate\n",
    "    scheduler.step()\n",
    "\n",
    "    # Calculate epoch metrics\n",
    "    epoch_loss = total_loss / len(trainloader)\n",
    "    epoch_acc = 100. * correct / total\n",
    "    test_acc = eval_model(model, testloader, device)\n",
    "\n",
    "    train_epoch_losses.append(epoch_loss)\n",
    "    train_epoch_acc.append(epoch_acc)\n",
    "    test_epoch_acc.append(test_acc)\n",
    "\n",
    "    print(f'Epoch {epoch+1}: Train CELoss: {epoch_loss:.4f}, Train Acc: {epoch_acc:.2f}%, Test Acc: {test_acc:.2f}%')\n",
    "\n",
    "  results = {\n",
    "    'train_epoch_losses': train_epoch_losses,\n",
    "    'train_epoch_acc': train_epoch_acc,\n",
    "    'test_epoch_acc': test_epoch_acc,\n",
    "    'epoch_values': epoch_values,\n",
    "    'iters': iters,\n",
    "    'train_losses': train_losses,\n",
    "    'train_acc': train_acc\n",
    "  }\n",
    "  return results"
   ]
  },
  {
   "cell_type": "code",
   "execution_count": 6,
   "metadata": {
    "executionInfo": {
     "elapsed": 1,
     "status": "ok",
     "timestamp": 1752063288153,
     "user": {
      "displayName": "Jacob Dunning",
      "userId": "17361546069656016098"
     },
     "user_tz": 360
    },
    "id": "NuB7DEeazhuf"
   },
   "outputs": [],
   "source": [
    "def save_stats(results, output_file_prefix, ts):\n",
    "  #save batch-level stats\n",
    "  with open(f'/content/drive/My Drive/ML + Robotics/{output_file_prefix}_batchstats_{ts}.csv', 'w') as f:\n",
    "    for i in range(len(results['train_losses'])):\n",
    "      row = f'''{results['epoch_values'][i]},{results['iters'][i]},{results['train_losses'][i]},{results['train_acc'][i]}\\n'''\n",
    "      f.write(row)\n",
    "\n",
    "  #save epoch-level stats\n",
    "  with open(f'/content/drive/My Drive/ML + Robotics/{output_file_prefix}_epochstats_{ts}.csv', 'w') as f:\n",
    "    for i in range(len(results['train_epoch_losses'])):\n",
    "      row = f'''{i},{results['train_epoch_losses'][i]},{results['train_epoch_acc'][i]},{results['test_epoch_acc'][i]}\\n'''\n",
    "      f.write(row)"
   ]
  },
  {
   "cell_type": "markdown",
   "metadata": {
    "id": "E8jEfbuuzVnA"
   },
   "source": [
    "### Training Code"
   ]
  },
  {
   "cell_type": "code",
   "execution_count": 7,
   "metadata": {
    "colab": {
     "base_uri": "https://localhost:8080/"
    },
    "executionInfo": {
     "elapsed": 8813,
     "status": "ok",
     "timestamp": 1752063309809,
     "user": {
      "displayName": "Jacob Dunning",
      "userId": "17361546069656016098"
     },
     "user_tz": 360
    },
    "id": "9E5LkH4NyKTS",
    "outputId": "1a51919e-276c-4417-82df-19cfa5462c90"
   },
   "outputs": [
    {
     "name": "stdout",
     "output_type": "stream",
     "text": [
      "running using cpu\n"
     ]
    }
   ],
   "source": [
    "#define compute device\n",
    "device = torch.device('cuda') if torch.cuda.is_available() else torch.device('cpu')\n",
    "print('running using', device)\n",
    "\n",
    "#get data\n",
    "trainset, testset, trainloader, testloader = get_cifar10_data(128)\n",
    "\n",
    "#get teacher model\n",
    "resnet_teacher = get_teacher_model(device)"
   ]
  },
  {
   "cell_type": "code",
   "execution_count": null,
   "metadata": {
    "colab": {
     "base_uri": "https://localhost:8080/"
    },
    "executionInfo": {
     "elapsed": 492005,
     "status": "ok",
     "timestamp": 1751857281136,
     "user": {
      "displayName": "Jacob Dunning",
      "userId": "17361546069656016098"
     },
     "user_tz": 360
    },
    "id": "mfYwIVhcyREq",
    "outputId": "033121d9-1485-4f0f-f62e-92e2421cfe33"
   },
   "outputs": [],
   "source": [
    "#find best initial learning rate for vit_normal\n",
    "lr_tests = []\n",
    "for lr in (torch.rand(20) * 1e-2):\n",
    "  model = init_model(device)\n",
    "  loss, acc = train(model, trainloader, testloader,\n",
    "                    device, learning_rate=lr.item(), weight_decay=1e-2,\n",
    "                    num_epochs=1, premature_stop=50)\n",
    "  lr_tests.append((lr.item(), loss, acc))\n",
    "\n",
    "#see acc-maximizing learning rate\n",
    "sorted(lr_tests, key=lambda x: x[2].item(), reverse=True)"
   ]
  },
  {
   "cell_type": "code",
   "execution_count": null,
   "metadata": {
    "colab": {
     "base_uri": "https://localhost:8080/"
    },
    "executionInfo": {
     "elapsed": 2024520,
     "status": "ok",
     "timestamp": 1752030615080,
     "user": {
      "displayName": "Jacob Dunning",
      "userId": "17361546069656016098"
     },
     "user_tz": 360
    },
    "id": "_JJbd9af1jog",
    "outputId": "b65878ef-9017-4f43-da85-516c4a740a68"
   },
   "outputs": [],
   "source": [
    "#find best initial learning rate, temp, and alpha for vit_student\n",
    "lr_tests = []\n",
    "for i in range(20):\n",
    "  model = init_model(device)\n",
    "  lr = torch.rand(1).item() * 1e-2\n",
    "  temp, alpha = torch.rand(1).item(), torch.rand(1).item()\n",
    "  loss, acc = train(model, trainloader, testloader,\n",
    "                    device, learning_rate=lr, weight_decay=1e-2,\n",
    "                    num_epochs=1, teacher_model=resnet_teacher,\n",
    "                    temperature=temp, alpha=alpha, premature_stop=50)\n",
    "  lr_tests.append((lr, temp, alpha, loss, acc))\n",
    "\n",
    "#acc maximizing lr, temp, alpha\n",
    "sorted(lr_tests, key=lambda x: x[-1].item(), reverse=True)"
   ]
  },
  {
   "cell_type": "code",
   "execution_count": 8,
   "metadata": {
    "colab": {
     "base_uri": "https://localhost:8080/"
    },
    "executionInfo": {
     "elapsed": 481,
     "status": "ok",
     "timestamp": 1752069550906,
     "user": {
      "displayName": "Jacob Dunning",
      "userId": "17361546069656016098"
     },
     "user_tz": 360
    },
    "id": "BUytnnORyWjd",
    "outputId": "10ad6009-247f-490c-a048-5a84c1090934"
   },
   "outputs": [
    {
     "name": "stdout",
     "output_type": "stream",
     "text": [
      "vit_normal and vit_student parameter count: 5,526,346\n",
      "resnet18 teacher parameter count: 11,173,962\n"
     ]
    }
   ],
   "source": [
    "#initialize models\n",
    "vit_normal = init_model(device)\n",
    "vit_student = init_model(device)\n",
    "resnet_teacher = get_teacher_model(device)\n",
    "\n",
    "vit_param_count = sum([p.numel() for p in vit_normal.parameters()])\n",
    "resnet_param_count = sum([p.numel() for p in resnet_teacher.parameters()])\n",
    "print(f'vit_normal and vit_student parameter count: {vit_param_count:,}')\n",
    "print(f'resnet18 teacher parameter count: {resnet_param_count:,}')"
   ]
  },
  {
   "cell_type": "code",
   "execution_count": 9,
   "metadata": {
    "colab": {
     "base_uri": "https://localhost:8080/"
    },
    "executionInfo": {
     "elapsed": 19464,
     "status": "ok",
     "timestamp": 1752064402628,
     "user": {
      "displayName": "Jacob Dunning",
      "userId": "17361546069656016098"
     },
     "user_tz": 360
    },
    "id": "zDcjfpXuy03m",
    "outputId": "ee8ecd82-e9d6-42db-e762-09b95ab037b3"
   },
   "outputs": [
    {
     "name": "stdout",
     "output_type": "stream",
     "text": [
      "evaluating accuracy of default parameters on CIFAR10 test set...\n"
     ]
    },
    {
     "ename": "AssertionError",
     "evalue": "Input height (32) doesn't match model (224).",
     "output_type": "error",
     "traceback": [
      "\u001b[31m---------------------------------------------------------------------------\u001b[39m",
      "\u001b[31mAssertionError\u001b[39m                            Traceback (most recent call last)",
      "\u001b[36mCell\u001b[39m\u001b[36m \u001b[39m\u001b[32mIn[9]\u001b[39m\u001b[32m, line 3\u001b[39m\n\u001b[32m      1\u001b[39m \u001b[38;5;66;03m#show initial performance of model before training\u001b[39;00m\n\u001b[32m      2\u001b[39m \u001b[38;5;28mprint\u001b[39m(\u001b[33m'\u001b[39m\u001b[33mevaluating accuracy of default parameters on CIFAR10 test set...\u001b[39m\u001b[33m'\u001b[39m)\n\u001b[32m----> \u001b[39m\u001b[32m3\u001b[39m acc = \u001b[43meval_model\u001b[49m\u001b[43m(\u001b[49m\u001b[43mvit_normal\u001b[49m\u001b[43m,\u001b[49m\u001b[43m \u001b[49m\u001b[43mtestloader\u001b[49m\u001b[43m,\u001b[49m\u001b[43m \u001b[49m\u001b[43mdevice\u001b[49m\u001b[43m)\u001b[49m\n\u001b[32m      4\u001b[39m \u001b[38;5;28mprint\u001b[39m(\u001b[33mf\u001b[39m\u001b[33m'\u001b[39m\u001b[33minitial accuracy \u001b[39m\u001b[38;5;132;01m{\u001b[39;00macc\u001b[38;5;132;01m:\u001b[39;00m\u001b[33m,\u001b[39m\u001b[38;5;132;01m}\u001b[39;00m\u001b[33m'\u001b[39m)\n",
      "\u001b[36mCell\u001b[39m\u001b[36m \u001b[39m\u001b[32mIn[4]\u001b[39m\u001b[32m, line 9\u001b[39m, in \u001b[36meval_model\u001b[39m\u001b[34m(model, testloader, device)\u001b[39m\n\u001b[32m      7\u001b[39m \u001b[38;5;28;01mfor\u001b[39;00m inputs, labels \u001b[38;5;129;01min\u001b[39;00m testloader:\n\u001b[32m      8\u001b[39m   inputs, labels = inputs.to(device), labels.to(device)\n\u001b[32m----> \u001b[39m\u001b[32m9\u001b[39m   outputs = \u001b[43mmodel\u001b[49m\u001b[43m(\u001b[49m\u001b[43minputs\u001b[49m\u001b[43m)\u001b[49m\n\u001b[32m     10\u001b[39m   preds = outputs.argmax(dim=-\u001b[32m1\u001b[39m)\n\u001b[32m     11\u001b[39m   correct += preds.eq(labels).sum()\n",
      "\u001b[36mFile \u001b[39m\u001b[32m~/Desktop/programming/substack/substack-repo/.venv/lib/python3.12/site-packages/torch/nn/modules/module.py:1751\u001b[39m, in \u001b[36mModule._wrapped_call_impl\u001b[39m\u001b[34m(self, *args, **kwargs)\u001b[39m\n\u001b[32m   1749\u001b[39m     \u001b[38;5;28;01mreturn\u001b[39;00m \u001b[38;5;28mself\u001b[39m._compiled_call_impl(*args, **kwargs)  \u001b[38;5;66;03m# type: ignore[misc]\u001b[39;00m\n\u001b[32m   1750\u001b[39m \u001b[38;5;28;01melse\u001b[39;00m:\n\u001b[32m-> \u001b[39m\u001b[32m1751\u001b[39m     \u001b[38;5;28;01mreturn\u001b[39;00m \u001b[38;5;28;43mself\u001b[39;49m\u001b[43m.\u001b[49m\u001b[43m_call_impl\u001b[49m\u001b[43m(\u001b[49m\u001b[43m*\u001b[49m\u001b[43margs\u001b[49m\u001b[43m,\u001b[49m\u001b[43m \u001b[49m\u001b[43m*\u001b[49m\u001b[43m*\u001b[49m\u001b[43mkwargs\u001b[49m\u001b[43m)\u001b[49m\n",
      "\u001b[36mFile \u001b[39m\u001b[32m~/Desktop/programming/substack/substack-repo/.venv/lib/python3.12/site-packages/torch/nn/modules/module.py:1762\u001b[39m, in \u001b[36mModule._call_impl\u001b[39m\u001b[34m(self, *args, **kwargs)\u001b[39m\n\u001b[32m   1757\u001b[39m \u001b[38;5;66;03m# If we don't have any hooks, we want to skip the rest of the logic in\u001b[39;00m\n\u001b[32m   1758\u001b[39m \u001b[38;5;66;03m# this function, and just call forward.\u001b[39;00m\n\u001b[32m   1759\u001b[39m \u001b[38;5;28;01mif\u001b[39;00m \u001b[38;5;129;01mnot\u001b[39;00m (\u001b[38;5;28mself\u001b[39m._backward_hooks \u001b[38;5;129;01mor\u001b[39;00m \u001b[38;5;28mself\u001b[39m._backward_pre_hooks \u001b[38;5;129;01mor\u001b[39;00m \u001b[38;5;28mself\u001b[39m._forward_hooks \u001b[38;5;129;01mor\u001b[39;00m \u001b[38;5;28mself\u001b[39m._forward_pre_hooks\n\u001b[32m   1760\u001b[39m         \u001b[38;5;129;01mor\u001b[39;00m _global_backward_pre_hooks \u001b[38;5;129;01mor\u001b[39;00m _global_backward_hooks\n\u001b[32m   1761\u001b[39m         \u001b[38;5;129;01mor\u001b[39;00m _global_forward_hooks \u001b[38;5;129;01mor\u001b[39;00m _global_forward_pre_hooks):\n\u001b[32m-> \u001b[39m\u001b[32m1762\u001b[39m     \u001b[38;5;28;01mreturn\u001b[39;00m \u001b[43mforward_call\u001b[49m\u001b[43m(\u001b[49m\u001b[43m*\u001b[49m\u001b[43margs\u001b[49m\u001b[43m,\u001b[49m\u001b[43m \u001b[49m\u001b[43m*\u001b[49m\u001b[43m*\u001b[49m\u001b[43mkwargs\u001b[49m\u001b[43m)\u001b[49m\n\u001b[32m   1764\u001b[39m result = \u001b[38;5;28;01mNone\u001b[39;00m\n\u001b[32m   1765\u001b[39m called_always_called_hooks = \u001b[38;5;28mset\u001b[39m()\n",
      "\u001b[36mFile \u001b[39m\u001b[32m~/Desktop/programming/substack/substack-repo/.venv/lib/python3.12/site-packages/timm/models/vision_transformer.py:993\u001b[39m, in \u001b[36mVisionTransformer.forward\u001b[39m\u001b[34m(self, x, attn_mask)\u001b[39m\n\u001b[32m    992\u001b[39m \u001b[38;5;28;01mdef\u001b[39;00m\u001b[38;5;250m \u001b[39m\u001b[34mforward\u001b[39m(\u001b[38;5;28mself\u001b[39m, x: torch.Tensor, attn_mask: Optional[torch.Tensor] = \u001b[38;5;28;01mNone\u001b[39;00m) -> torch.Tensor:\n\u001b[32m--> \u001b[39m\u001b[32m993\u001b[39m     x = \u001b[38;5;28;43mself\u001b[39;49m\u001b[43m.\u001b[49m\u001b[43mforward_features\u001b[49m\u001b[43m(\u001b[49m\u001b[43mx\u001b[49m\u001b[43m,\u001b[49m\u001b[43m \u001b[49m\u001b[43mattn_mask\u001b[49m\u001b[43m=\u001b[49m\u001b[43mattn_mask\u001b[49m\u001b[43m)\u001b[49m\n\u001b[32m    994\u001b[39m     x = \u001b[38;5;28mself\u001b[39m.forward_head(x)\n\u001b[32m    995\u001b[39m     \u001b[38;5;28;01mreturn\u001b[39;00m x\n",
      "\u001b[36mFile \u001b[39m\u001b[32m~/Desktop/programming/substack/substack-repo/.venv/lib/python3.12/site-packages/timm/models/vision_transformer.py:936\u001b[39m, in \u001b[36mVisionTransformer.forward_features\u001b[39m\u001b[34m(self, x, attn_mask)\u001b[39m\n\u001b[32m    934\u001b[39m \u001b[38;5;28;01mdef\u001b[39;00m\u001b[38;5;250m \u001b[39m\u001b[34mforward_features\u001b[39m(\u001b[38;5;28mself\u001b[39m, x: torch.Tensor, attn_mask: Optional[torch.Tensor] = \u001b[38;5;28;01mNone\u001b[39;00m) -> torch.Tensor:\n\u001b[32m    935\u001b[39m \u001b[38;5;250m    \u001b[39m\u001b[33;03m\"\"\"Forward pass through feature layers (embeddings, transformer blocks, post-transformer norm).\"\"\"\u001b[39;00m\n\u001b[32m--> \u001b[39m\u001b[32m936\u001b[39m     x = \u001b[38;5;28;43mself\u001b[39;49m\u001b[43m.\u001b[49m\u001b[43mpatch_embed\u001b[49m\u001b[43m(\u001b[49m\u001b[43mx\u001b[49m\u001b[43m)\u001b[49m\n\u001b[32m    937\u001b[39m     x = \u001b[38;5;28mself\u001b[39m._pos_embed(x)\n\u001b[32m    938\u001b[39m     x = \u001b[38;5;28mself\u001b[39m.patch_drop(x)\n",
      "\u001b[36mFile \u001b[39m\u001b[32m~/Desktop/programming/substack/substack-repo/.venv/lib/python3.12/site-packages/torch/nn/modules/module.py:1751\u001b[39m, in \u001b[36mModule._wrapped_call_impl\u001b[39m\u001b[34m(self, *args, **kwargs)\u001b[39m\n\u001b[32m   1749\u001b[39m     \u001b[38;5;28;01mreturn\u001b[39;00m \u001b[38;5;28mself\u001b[39m._compiled_call_impl(*args, **kwargs)  \u001b[38;5;66;03m# type: ignore[misc]\u001b[39;00m\n\u001b[32m   1750\u001b[39m \u001b[38;5;28;01melse\u001b[39;00m:\n\u001b[32m-> \u001b[39m\u001b[32m1751\u001b[39m     \u001b[38;5;28;01mreturn\u001b[39;00m \u001b[38;5;28;43mself\u001b[39;49m\u001b[43m.\u001b[49m\u001b[43m_call_impl\u001b[49m\u001b[43m(\u001b[49m\u001b[43m*\u001b[49m\u001b[43margs\u001b[49m\u001b[43m,\u001b[49m\u001b[43m \u001b[49m\u001b[43m*\u001b[49m\u001b[43m*\u001b[49m\u001b[43mkwargs\u001b[49m\u001b[43m)\u001b[49m\n",
      "\u001b[36mFile \u001b[39m\u001b[32m~/Desktop/programming/substack/substack-repo/.venv/lib/python3.12/site-packages/torch/nn/modules/module.py:1762\u001b[39m, in \u001b[36mModule._call_impl\u001b[39m\u001b[34m(self, *args, **kwargs)\u001b[39m\n\u001b[32m   1757\u001b[39m \u001b[38;5;66;03m# If we don't have any hooks, we want to skip the rest of the logic in\u001b[39;00m\n\u001b[32m   1758\u001b[39m \u001b[38;5;66;03m# this function, and just call forward.\u001b[39;00m\n\u001b[32m   1759\u001b[39m \u001b[38;5;28;01mif\u001b[39;00m \u001b[38;5;129;01mnot\u001b[39;00m (\u001b[38;5;28mself\u001b[39m._backward_hooks \u001b[38;5;129;01mor\u001b[39;00m \u001b[38;5;28mself\u001b[39m._backward_pre_hooks \u001b[38;5;129;01mor\u001b[39;00m \u001b[38;5;28mself\u001b[39m._forward_hooks \u001b[38;5;129;01mor\u001b[39;00m \u001b[38;5;28mself\u001b[39m._forward_pre_hooks\n\u001b[32m   1760\u001b[39m         \u001b[38;5;129;01mor\u001b[39;00m _global_backward_pre_hooks \u001b[38;5;129;01mor\u001b[39;00m _global_backward_hooks\n\u001b[32m   1761\u001b[39m         \u001b[38;5;129;01mor\u001b[39;00m _global_forward_hooks \u001b[38;5;129;01mor\u001b[39;00m _global_forward_pre_hooks):\n\u001b[32m-> \u001b[39m\u001b[32m1762\u001b[39m     \u001b[38;5;28;01mreturn\u001b[39;00m \u001b[43mforward_call\u001b[49m\u001b[43m(\u001b[49m\u001b[43m*\u001b[49m\u001b[43margs\u001b[49m\u001b[43m,\u001b[49m\u001b[43m \u001b[49m\u001b[43m*\u001b[49m\u001b[43m*\u001b[49m\u001b[43mkwargs\u001b[49m\u001b[43m)\u001b[49m\n\u001b[32m   1764\u001b[39m result = \u001b[38;5;28;01mNone\u001b[39;00m\n\u001b[32m   1765\u001b[39m called_always_called_hooks = \u001b[38;5;28mset\u001b[39m()\n",
      "\u001b[36mFile \u001b[39m\u001b[32m~/Desktop/programming/substack/substack-repo/.venv/lib/python3.12/site-packages/timm/layers/patch_embed.py:116\u001b[39m, in \u001b[36mPatchEmbed.forward\u001b[39m\u001b[34m(self, x)\u001b[39m\n\u001b[32m    114\u001b[39m \u001b[38;5;28;01mif\u001b[39;00m \u001b[38;5;28mself\u001b[39m.img_size \u001b[38;5;129;01mis\u001b[39;00m \u001b[38;5;129;01mnot\u001b[39;00m \u001b[38;5;28;01mNone\u001b[39;00m:\n\u001b[32m    115\u001b[39m     \u001b[38;5;28;01mif\u001b[39;00m \u001b[38;5;28mself\u001b[39m.strict_img_size:\n\u001b[32m--> \u001b[39m\u001b[32m116\u001b[39m         \u001b[43m_assert\u001b[49m\u001b[43m(\u001b[49m\u001b[43mH\u001b[49m\u001b[43m \u001b[49m\u001b[43m==\u001b[49m\u001b[43m \u001b[49m\u001b[38;5;28;43mself\u001b[39;49m\u001b[43m.\u001b[49m\u001b[43mimg_size\u001b[49m\u001b[43m[\u001b[49m\u001b[32;43m0\u001b[39;49m\u001b[43m]\u001b[49m\u001b[43m,\u001b[49m\u001b[43m \u001b[49m\u001b[33;43mf\u001b[39;49m\u001b[33;43m\"\u001b[39;49m\u001b[33;43mInput height (\u001b[39;49m\u001b[38;5;132;43;01m{\u001b[39;49;00m\u001b[43mH\u001b[49m\u001b[38;5;132;43;01m}\u001b[39;49;00m\u001b[33;43m) doesn\u001b[39;49m\u001b[33;43m'\u001b[39;49m\u001b[33;43mt match model (\u001b[39;49m\u001b[38;5;132;43;01m{\u001b[39;49;00m\u001b[38;5;28;43mself\u001b[39;49m\u001b[43m.\u001b[49m\u001b[43mimg_size\u001b[49m\u001b[43m[\u001b[49m\u001b[32;43m0\u001b[39;49m\u001b[43m]\u001b[49m\u001b[38;5;132;43;01m}\u001b[39;49;00m\u001b[33;43m).\u001b[39;49m\u001b[33;43m\"\u001b[39;49m\u001b[43m)\u001b[49m\n\u001b[32m    117\u001b[39m         _assert(W == \u001b[38;5;28mself\u001b[39m.img_size[\u001b[32m1\u001b[39m], \u001b[33mf\u001b[39m\u001b[33m\"\u001b[39m\u001b[33mInput width (\u001b[39m\u001b[38;5;132;01m{\u001b[39;00mW\u001b[38;5;132;01m}\u001b[39;00m\u001b[33m) doesn\u001b[39m\u001b[33m'\u001b[39m\u001b[33mt match model (\u001b[39m\u001b[38;5;132;01m{\u001b[39;00m\u001b[38;5;28mself\u001b[39m.img_size[\u001b[32m1\u001b[39m]\u001b[38;5;132;01m}\u001b[39;00m\u001b[33m).\u001b[39m\u001b[33m\"\u001b[39m)\n\u001b[32m    118\u001b[39m     \u001b[38;5;28;01melif\u001b[39;00m \u001b[38;5;129;01mnot\u001b[39;00m \u001b[38;5;28mself\u001b[39m.dynamic_img_pad:\n",
      "\u001b[36mFile \u001b[39m\u001b[32m~/Desktop/programming/substack/substack-repo/.venv/lib/python3.12/site-packages/torch/__init__.py:2150\u001b[39m, in \u001b[36m_assert\u001b[39m\u001b[34m(condition, message)\u001b[39m\n\u001b[32m   2144\u001b[39m \u001b[38;5;28;01mif\u001b[39;00m \u001b[38;5;28mtype\u001b[39m(condition) \u001b[38;5;129;01mis\u001b[39;00m \u001b[38;5;129;01mnot\u001b[39;00m torch.Tensor \u001b[38;5;129;01mand\u001b[39;00m overrides.has_torch_function(\n\u001b[32m   2145\u001b[39m     (condition,)\n\u001b[32m   2146\u001b[39m ):\n\u001b[32m   2147\u001b[39m     \u001b[38;5;28;01mreturn\u001b[39;00m overrides.handle_torch_function(\n\u001b[32m   2148\u001b[39m         _assert, (condition,), condition, message\n\u001b[32m   2149\u001b[39m     )\n\u001b[32m-> \u001b[39m\u001b[32m2150\u001b[39m \u001b[38;5;28;01massert\u001b[39;00m condition, message\n",
      "\u001b[31mAssertionError\u001b[39m: Input height (32) doesn't match model (224)."
     ]
    }
   ],
   "source": [
    "#show initial performance of model before training\n",
    "print('evaluating accuracy of default parameters on CIFAR10 test set...')\n",
    "acc = eval_model(vit_normal, testloader, device)\n",
    "print(f'initial accuracy {acc:,}')"
   ]
  },
  {
   "cell_type": "code",
   "execution_count": null,
   "metadata": {
    "executionInfo": {
     "elapsed": 7,
     "status": "ok",
     "timestamp": 1752069545838,
     "user": {
      "displayName": "Jacob Dunning",
      "userId": "17361546069656016098"
     },
     "user_tz": 360
    },
    "id": "jvPkXzVEyjYP"
   },
   "outputs": [],
   "source": [
    "#define hyperparams/training constants across both models\n",
    "WEIGHT_DECAY = 1e-2\n",
    "NUM_EPOCHS = 5"
   ]
  },
  {
   "cell_type": "code",
   "execution_count": null,
   "metadata": {
    "colab": {
     "base_uri": "https://localhost:8080/"
    },
    "executionInfo": {
     "elapsed": 2081334,
     "status": "ok",
     "timestamp": 1752067123629,
     "user": {
      "displayName": "Jacob Dunning",
      "userId": "17361546069656016098"
     },
     "user_tz": 360
    },
    "id": "mnsTqO8LSjBc",
    "outputId": "ee5cc160-ea50-4376-bf11-a2b344d746b5"
   },
   "outputs": [],
   "source": [
    "learning_rate = 1e-3\n",
    "\n",
    "#train vit_normal, store results\n",
    "print('training vit using normal pre-training approach')\n",
    "vit_normal_results = train(\n",
    "  vit_normal,\n",
    "  trainloader,\n",
    "  testloader,\n",
    "  device,\n",
    "  learning_rate=learning_rate,\n",
    "  weight_decay=WEIGHT_DECAY,\n",
    "  num_epochs=NUM_EPOCHS)\n",
    "ts = datetime.datetime.now().strftime('%Y%m%d_%H%M%S')\n",
    "save_stats(vit_normal_results, 'vit_normal', ts)\n",
    "torch.save(vit_normal.state_dict(), f'/content/drive/My Drive/ML + Robotics/vit_normal_{ts}.pt')\n"
   ]
  },
  {
   "cell_type": "code",
   "execution_count": null,
   "metadata": {
    "colab": {
     "base_uri": "https://localhost:8080/"
    },
    "executionInfo": {
     "elapsed": 3990734,
     "status": "ok",
     "timestamp": 1752073545071,
     "user": {
      "displayName": "Jacob Dunning",
      "userId": "17361546069656016098"
     },
     "user_tz": 360
    },
    "id": "JHfFJpVbSl33",
    "outputId": "2f1ae617-aaee-42b5-e57f-f3ce7e78133c"
   },
   "outputs": [],
   "source": [
    "student_learning_rate = 1e-4\n",
    "temperature = 0.212\n",
    "alpha=0.62\n",
    "\n",
    "#use train vit_student with teacher model\n",
    "print('training vit using distillation/student-teacher approach')\n",
    "vit_student_results = train(\n",
    "  vit_normal,\n",
    "  trainloader,\n",
    "  testloader,\n",
    "  device,\n",
    "  learning_rate=student_learning_rate,\n",
    "  weight_decay=WEIGHT_DECAY,\n",
    "  num_epochs=NUM_EPOCHS,\n",
    "  teacher_model=resnet_teacher,\n",
    "  temperature=temperature,\n",
    "  alpha=alpha)\n",
    "ts = datetime.datetime.now().strftime('%Y%m%d_%H%M%S')\n",
    "save_stats(vit_student_results, 'vit_student', ts)\n",
    "torch.save(vit_student.state_dict(), f'/content/drive/My Drive/ML + Robotics/vit_normal_{ts}.pt')"
   ]
  }
 ],
 "metadata": {
  "accelerator": "GPU",
  "colab": {
   "authorship_tag": "ABX9TyO8wQqmKTc2FxHGi+OJKDcQ",
   "gpuType": "T4",
   "provenance": []
  },
  "kernelspec": {
   "display_name": ".venv",
   "language": "python",
   "name": "python3"
  },
  "language_info": {
   "codemirror_mode": {
    "name": "ipython",
    "version": 3
   },
   "file_extension": ".py",
   "mimetype": "text/x-python",
   "name": "python",
   "nbconvert_exporter": "python",
   "pygments_lexer": "ipython3",
   "version": "3.12.7"
  }
 },
 "nbformat": 4,
 "nbformat_minor": 0
}

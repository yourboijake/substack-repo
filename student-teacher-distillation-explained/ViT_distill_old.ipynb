{
 "cells": [
  {
   "cell_type": "code",
   "execution_count": 2,
   "metadata": {
    "executionInfo": {
     "elapsed": 21482,
     "status": "ok",
     "timestamp": 1751814866027,
     "user": {
      "displayName": "Jacob Dunning",
      "userId": "17361546069656016098"
     },
     "user_tz": 360
    },
    "id": "uli0YfNhv4Qq"
   },
   "outputs": [
    {
     "name": "stderr",
     "output_type": "stream",
     "text": [
      "/home/jacob/Desktop/programming/substack/substack-repo/.venv/lib/python3.12/site-packages/tqdm/auto.py:21: TqdmWarning: IProgress not found. Please update jupyter and ipywidgets. See https://ipywidgets.readthedocs.io/en/stable/user_install.html\n",
      "  from .autonotebook import tqdm as notebook_tqdm\n",
      "/home/jacob/Desktop/programming/substack/substack-repo/.venv/lib/python3.12/site-packages/outdated/__init__.py:36: UserWarning: pkg_resources is deprecated as an API. See https://setuptools.pypa.io/en/latest/pkg_resources.html. The pkg_resources package is slated for removal as early as 2025-11-30. Refrain from using this package or pin to Setuptools<81.\n",
      "  from pkg_resources import parse_version\n"
     ]
    }
   ],
   "source": [
    "import torch\n",
    "import torch.nn as nn\n",
    "import torch.nn.functional as F\n",
    "import torch.optim as optim\n",
    "from torch.utils.data import DataLoader, Dataset\n",
    "\n",
    "import torchvision\n",
    "import torchvision.transforms as transforms\n",
    "\n",
    "from tqdm import tqdm\n",
    "import timm\n",
    "import detectors\n",
    "import datetime\n"
   ]
  },
  {
   "cell_type": "code",
   "execution_count": 3,
   "metadata": {},
   "outputs": [
    {
     "data": {
      "text/plain": [
       "False"
      ]
     },
     "execution_count": 3,
     "metadata": {},
     "output_type": "execute_result"
    }
   ],
   "source": [
    "torch.xpu.is_available()"
   ]
  },
  {
   "cell_type": "markdown",
   "metadata": {
    "id": "VyYdSAuxzIBu"
   },
   "source": [
    "### Retrieve Data and Model Objects"
   ]
  },
  {
   "cell_type": "code",
   "execution_count": 3,
   "metadata": {
    "executionInfo": {
     "elapsed": 6,
     "status": "ok",
     "timestamp": 1751814866035,
     "user": {
      "displayName": "Jacob Dunning",
      "userId": "17361546069656016098"
     },
     "user_tz": 360
    },
    "id": "B5tzmI0cwOZT"
   },
   "outputs": [],
   "source": [
    "def get_cifar10_data(batch_size):\n",
    "  \"\"\"Get CIFAR-10 data loaders with appropriate transforms\"\"\"\n",
    "  transform = transforms.Compose([\n",
    "    transforms.Resize(224),\n",
    "    transforms.ToTensor(),\n",
    "    transforms.Normalize(mean=[0.49139968, 0.48215827 ,0.44653124],\n",
    "                         std=[0.24703233, 0.24348505, 0.26158768])\n",
    "  ])\n",
    "\n",
    "  trainset = torchvision.datasets.CIFAR10(\n",
    "    root='./data', train=True, download=True, transform=transform\n",
    "  )\n",
    "  testset = torchvision.datasets.CIFAR10(\n",
    "    root='./data', train=False, download=True, transform=transform\n",
    "  )\n",
    "\n",
    "  trainloader = DataLoader(trainset, batch_size=batch_size,\n",
    "                           shuffle=True, num_workers=2)\n",
    "  testloader = DataLoader(testset, batch_size=batch_size,\n",
    "                          shuffle=False, num_workers=2)\n",
    "\n",
    "  return trainset, testset, trainloader, testloader"
   ]
  },
  {
   "cell_type": "code",
   "execution_count": 4,
   "metadata": {
    "executionInfo": {
     "elapsed": 5,
     "status": "ok",
     "timestamp": 1751814866036,
     "user": {
      "displayName": "Jacob Dunning",
      "userId": "17361546069656016098"
     },
     "user_tz": 360
    },
    "id": "hgMix2CYyEqA"
   },
   "outputs": [],
   "source": [
    "def init_model(device):\n",
    "  '''\n",
    "  initialize vit tiny patch16_224 model from timm, no pretraining\n",
    "  '''\n",
    "  model = timm.create_model('vit_tiny_patch16_224',\n",
    "                            pretrained=False, num_classes=10)\n",
    "  model.to(device)\n",
    "  return model\n",
    "\n",
    "def get_teacher_model(device):\n",
    "  '''\n",
    "  get resnet18 teacher model from timm, with pretrained weights\n",
    "  '''\n",
    "  resnet18 = timm.create_model(\"resnet18_cifar10\", pretrained=True)\n",
    "  #don't want to accidentally update params during training\n",
    "  for p in resnet18.parameters():\n",
    "    p.requires_grad = False\n",
    "  resnet18.to(device)\n",
    "  return resnet18"
   ]
  },
  {
   "cell_type": "markdown",
   "metadata": {
    "id": "WBgPzA3IzSJ2"
   },
   "source": [
    "### Define eval and train functions"
   ]
  },
  {
   "cell_type": "code",
   "execution_count": 5,
   "metadata": {
    "executionInfo": {
     "elapsed": 6,
     "status": "ok",
     "timestamp": 1751814866039,
     "user": {
      "displayName": "Jacob Dunning",
      "userId": "17361546069656016098"
     },
     "user_tz": 360
    },
    "id": "9dvwflEiy7_U"
   },
   "outputs": [],
   "source": [
    "#accuracy of classification\n",
    "def eval_model(model, testloader, device):\n",
    "  model.eval()\n",
    "  correct = 0\n",
    "  total = 0\n",
    "  with torch.no_grad():\n",
    "    for inputs, labels in testloader:\n",
    "      inputs, labels = inputs.to(device), labels.to(device)\n",
    "      outputs = model(inputs)\n",
    "      preds = outputs.argmax(dim=-1)\n",
    "      correct += preds.eq(labels).sum()\n",
    "      total += inputs.shape[0]\n",
    "  return correct / float(total)"
   ]
  },
  {
   "cell_type": "code",
   "execution_count": 6,
   "metadata": {
    "executionInfo": {
     "elapsed": 128,
     "status": "ok",
     "timestamp": 1751814866168,
     "user": {
      "displayName": "Jacob Dunning",
      "userId": "17361546069656016098"
     },
     "user_tz": 360
    },
    "id": "_fZ6Kg0nzFOH"
   },
   "outputs": [],
   "source": [
    "def train(model, trainloader, testloader, device, teacher_model=None, temperature=0.5, alpha=0.5):\n",
    "  optimizer = optim.AdamW(params=model.parameters(), lr=LEARNING_RATE, weight_decay=WEIGHT_DECAY)\n",
    "  ce_loss_criterion = nn.CrossEntropyLoss()\n",
    "  kld_loss_criterion = nn.KLDivLoss(reduction='batchmean')\n",
    "  scheduler = optim.lr_scheduler.CosineAnnealingLR(optimizer, T_max=NUM_EPOCHS)\n",
    "\n",
    "  train_epoch_losses, train_epoch_acc, test_epoch_acc = [], [], []\n",
    "  epoch_values, iters, train_losses, train_acc = [], [], [], []\n",
    "\n",
    "  for epoch in range(NUM_EPOCHS):\n",
    "    total_loss = 0.0\n",
    "    correct = 0\n",
    "    total = 0\n",
    "    model.train()\n",
    "\n",
    "    pbar = tqdm(trainloader, desc=f'Epoch {epoch+1}/{NUM_EPOCHS}')\n",
    "    for batch_idx, (inputs, labels) in enumerate(pbar):\n",
    "      #forward and backward pass\n",
    "      inputs, labels = inputs.to(device), labels.to(device)\n",
    "      outputs = model(inputs)\n",
    "      if teacher_model:\n",
    "        with torch.no_grad():\n",
    "          soft_labels = F.softmax(teacher_model(inputs) / temperature, dim=1) #get soft labels from teacher model\n",
    "        soft_preds = F.log_softmax(outputs / temperature, dim=1)\n",
    "        kld_loss = kld_loss_criterion(soft_preds, soft_labels) * (temperature ** 2)\n",
    "        ce_loss = ce_loss_criterion(outputs, labels)\n",
    "        loss = alpha * kld_loss + (1 - alpha) * ce_loss #combine CELoss and KL-Divergence Loss\n",
    "      else:\n",
    "        loss = ce_loss_criterion(outputs, labels)\n",
    "      optimizer.zero_grad()\n",
    "      loss.backward()\n",
    "      optimizer.step()\n",
    "\n",
    "      #update running statistics\n",
    "      total_loss += loss.item()\n",
    "      preds = outputs.argmax(dim=-1)\n",
    "      correct += preds.eq(labels).sum()\n",
    "      total += labels.size(0)\n",
    "\n",
    "      #update progress bar\n",
    "      pbar.set_postfix({\n",
    "        'Loss': f'{loss.item():.4f}',\n",
    "        'Acc': f'{100.*correct/total:.2f}%'\n",
    "      })\n",
    "      epoch_values.append(epoch)\n",
    "      iters.append(batch_idx)\n",
    "      train_losses.append(loss.item())\n",
    "      train_acc.append(correct / float(total))\n",
    "\n",
    "    # update learning rate\n",
    "    scheduler.step()\n",
    "\n",
    "    # Calculate epoch metrics\n",
    "    epoch_loss = total_loss / len(trainloader)\n",
    "    epoch_acc = 100. * correct / total\n",
    "    test_acc = eval_model(model, testloader, device)\n",
    "\n",
    "    train_epoch_losses.append(epoch_loss)\n",
    "    train_epoch_acc.append(epoch_acc)\n",
    "    test_epoch_acc.append(test_acc)\n",
    "\n",
    "    print(f'Epoch {epoch+1}: Train CELoss: {epoch_loss:.4f}, Train Acc: {epoch_acc:.2f}%, Test Acc: {test_acc:.2f}%')\n",
    "\n",
    "  results = {\n",
    "    'train_epoch_losses': train_epoch_losses,\n",
    "    'train_epoch_acc': train_epoch_acc,\n",
    "    'test_epoch_acc': test_epoch_acc,\n",
    "    'epoch_values': epoch_values,\n",
    "    'iters': iters,\n",
    "    'train_losses': train_losses,\n",
    "    'train_acc': train_acc\n",
    "  }\n",
    "  return results"
   ]
  },
  {
   "cell_type": "code",
   "execution_count": 7,
   "metadata": {
    "executionInfo": {
     "elapsed": 4,
     "status": "ok",
     "timestamp": 1751814866175,
     "user": {
      "displayName": "Jacob Dunning",
      "userId": "17361546069656016098"
     },
     "user_tz": 360
    },
    "id": "NuB7DEeazhuf"
   },
   "outputs": [],
   "source": [
    "def save_stats(results, output_file_prefix, ts):\n",
    "  #save batch-level stats\n",
    "  with open(f'{output_file_prefix}_batchstats_{ts}.csv', 'w') as f:\n",
    "    for i in range(len(results['train_losses'])):\n",
    "      row = f'''{results['epoch_values'][i]},{results['iters'][i]},{results['train_losses'][i]},{results['train_acc'][i]}\\n'''\n",
    "      f.write(row)\n",
    "\n",
    "  #save epoch-level stats\n",
    "  with open(f'{output_file_prefix}_epochstats_{ts}.csv', 'w') as f:\n",
    "    for i in range(len(results['train_epoch_losses'])):\n",
    "      row = f'''{i},{results['train_epoch_losses'][i]},{results['train_epoch_acc'][i]},{results['test_epoch_acc'][i]}\\n'''\n",
    "      f.write(row)"
   ]
  },
  {
   "cell_type": "code",
   "execution_count": 1,
   "metadata": {},
   "outputs": [
    {
     "ename": "NameError",
     "evalue": "name 'torch' is not defined",
     "output_type": "error",
     "traceback": [
      "\u001b[31m---------------------------------------------------------------------------\u001b[39m",
      "\u001b[31mNameError\u001b[39m                                 Traceback (most recent call last)",
      "\u001b[36mCell\u001b[39m\u001b[36m \u001b[39m\u001b[32mIn[1]\u001b[39m\u001b[32m, line 1\u001b[39m\n\u001b[32m----> \u001b[39m\u001b[32m1\u001b[39m \u001b[43mtorch\u001b[49m.xpu.is_available()\n",
      "\u001b[31mNameError\u001b[39m: name 'torch' is not defined"
     ]
    }
   ],
   "source": [
    "torch.xpu.is_available()"
   ]
  },
  {
   "cell_type": "markdown",
   "metadata": {
    "id": "E8jEfbuuzVnA"
   },
   "source": [
    "### Training Code"
   ]
  },
  {
   "cell_type": "code",
   "execution_count": 9,
   "metadata": {
    "colab": {
     "base_uri": "https://localhost:8080/"
    },
    "executionInfo": {
     "elapsed": 7593,
     "status": "ok",
     "timestamp": 1751814873766,
     "user": {
      "displayName": "Jacob Dunning",
      "userId": "17361546069656016098"
     },
     "user_tz": 360
    },
    "id": "9E5LkH4NyKTS",
    "outputId": "72827145-64d0-4a21-b3cc-1d023b481aac"
   },
   "outputs": [
    {
     "name": "stdout",
     "output_type": "stream",
     "text": [
      "running using cpu\n",
      "vit_normal and vit_student parameter count: 5,526,346\n",
      "resnet18 teacher parameter count: 11,173,962\n",
      "\n",
      "\n"
     ]
    }
   ],
   "source": [
    "#define compute device\n",
    "if torch.cuda.is_available():\n",
    "  device = torch.device('cuda')\n",
    "elif torch.xpu.is_available():\n",
    "  device = torch.device('xpu')\n",
    "else:\n",
    "  device = torch.device('cpu')\n",
    "print('running using', device)\n",
    "\n",
    "#get data\n",
    "trainset, testset, trainloader, testloader = get_cifar10_data(128)\n",
    "\n",
    "#initialize models\n",
    "vit_normal = init_model(device)\n",
    "vit_student = init_model(device)\n",
    "resnet_teacher = get_teacher_model(device)\n",
    "\n",
    "vit_param_count = sum([p.numel() for p in vit_normal.parameters()])\n",
    "resnet_param_count = sum([p.numel() for p in resnet_teacher.parameters()])\n",
    "print(f'vit_normal and vit_student parameter count: {vit_param_count:,}')\n",
    "print(f'resnet18 teacher parameter count: {resnet_param_count:,}')\n",
    "print('\\n')"
   ]
  },
  {
   "cell_type": "code",
   "execution_count": 9,
   "metadata": {
    "colab": {
     "base_uri": "https://localhost:8080/"
    },
    "executionInfo": {
     "elapsed": 412450,
     "status": "ok",
     "timestamp": 1751815286217,
     "user": {
      "displayName": "Jacob Dunning",
      "userId": "17361546069656016098"
     },
     "user_tz": 360
    },
    "id": "zDcjfpXuy03m",
    "outputId": "bf0051b4-6f77-4d29-d3f6-f44694e0b4a9"
   },
   "outputs": [
    {
     "name": "stdout",
     "output_type": "stream",
     "text": [
      "evaluating accuracy of default parameters on CIFAR10 test set...\n",
      "initial accuracy 0.1234000027179718\n"
     ]
    }
   ],
   "source": [
    "#show initial performance of model before training\n",
    "print('evaluating accuracy of default parameters on CIFAR10 test set...')\n",
    "acc = eval_model(vit_normal, testloader, device)\n",
    "print(f'initial accuracy {acc:,}')"
   ]
  },
  {
   "cell_type": "code",
   "execution_count": 10,
   "metadata": {
    "executionInfo": {
     "elapsed": 16,
     "status": "ok",
     "timestamp": 1751815286218,
     "user": {
      "displayName": "Jacob Dunning",
      "userId": "17361546069656016098"
     },
     "user_tz": 360
    },
    "id": "jvPkXzVEyjYP"
   },
   "outputs": [],
   "source": [
    "#define hyperparams/training constants\n",
    "LEARNING_RATE = 1e-3\n",
    "WEIGHT_DECAY = 1e-2\n",
    "NUM_EPOCHS = 10\n",
    "#define hyperparams/training constants\n",
    "LEARNING_RATE = 1e-3\n",
    "WEIGHT_DECAY = 1e-2\n",
    "NUM_EPOCHS = 10"
   ]
  },
  {
   "cell_type": "code",
   "execution_count": null,
   "metadata": {
    "colab": {
     "background_save": true,
     "base_uri": "https://localhost:8080/"
    },
    "id": "mnsTqO8LSjBc"
   },
   "outputs": [
    {
     "name": "stdout",
     "output_type": "stream",
     "text": [
      "training vit using normal pre-training approach\n"
     ]
    },
    {
     "name": "stderr",
     "output_type": "stream",
     "text": [
      "Epoch 1/10:  92%|█████████▏| 358/391 [1:29:57<08:01, 14.58s/it, Loss=1.6489, Acc=31.22%]"
     ]
    }
   ],
   "source": [
    "#train vit_normal, store results\n",
    "print('training vit using normal pre-training approach')\n",
    "vit_normal_results = train(vit_normal, trainloader, testloader, device)\n",
    "ts = datetime.datetime.now().strftime('%Y%m%d_%H%M%S')\n",
    "save_stats(vit_normal_results, 'vit_normal', ts)\n",
    "torch.save(vit_normal.state_dict(), f'vit_normal_{ts}.pt')\n"
   ]
  },
  {
   "cell_type": "code",
   "execution_count": null,
   "metadata": {
    "id": "JHfFJpVbSl33"
   },
   "outputs": [],
   "source": [
    "#use train vit_student with teacher model\n",
    "print('training vit using distillation/student-teacher approach')\n",
    "vit_student_results = train(vit_normal, trainloader, testloader, device, teacher_model=resnet_teacher)\n",
    "ts = datetime.datetime.now().strftime('%Y%m%d_%H%M%S')\n",
    "save_stats(vit_student_results, 'vit_student', ts)\n",
    "torch.save(vit_student.state_dict(), f'vit_student_{ts}.pt')"
   ]
  },
  {
   "cell_type": "code",
   "execution_count": null,
   "metadata": {
    "id": "1Mq8nHVzM9L9"
   },
   "outputs": [],
   "source": []
  },
  {
   "cell_type": "markdown",
   "metadata": {
    "id": "AuJt3RTzzags"
   },
   "source": [
    "### Comparing Performance metrics"
   ]
  }
 ],
 "metadata": {
  "accelerator": "TPU",
  "colab": {
   "authorship_tag": "ABX9TyNxowtXaNz+YJZc5qbOyOlC",
   "gpuType": "V28",
   "name": "",
   "version": ""
  },
  "kernelspec": {
   "display_name": "Python 3",
   "language": "python",
   "name": "python3"
  },
  "language_info": {
   "codemirror_mode": {
    "name": "ipython",
    "version": 3
   },
   "file_extension": ".py",
   "mimetype": "text/x-python",
   "name": "python",
   "nbconvert_exporter": "python",
   "pygments_lexer": "ipython3",
   "version": "3.12.3"
  }
 },
 "nbformat": 4,
 "nbformat_minor": 0
}

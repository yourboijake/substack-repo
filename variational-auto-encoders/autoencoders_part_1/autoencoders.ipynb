{
 "cells": [
  {
   "cell_type": "code",
   "execution_count": 3,
   "id": "a515f29b",
   "metadata": {},
   "outputs": [],
   "source": [
    "import torch\n",
    "import torch.nn as nn\n",
    "import torch.nn.functional as F\n",
    "import torch.optim as optim\n",
    "import torchvision\n",
    "import torchvision.transforms as transforms\n",
    "from torch.utils.data import RandomSampler, Dataset, DataLoader"
   ]
  },
  {
   "cell_type": "code",
   "execution_count": 4,
   "id": "7d1af6ec",
   "metadata": {},
   "outputs": [],
   "source": [
    "#demo using CIFAR10\n",
    "#create dataset with pytorch datset and dataloaders\n",
    "tf = transforms.Compose([\n",
    "  torchvision.transforms.ToTensor(),\n",
    "  transforms.Normalize([0.5]*3, [0.25]*3)\n",
    "])\n",
    "TRAIN_BATCH_SIZE = 128\n",
    "\n",
    "trainset = torchvision.datasets.CIFAR10(\n",
    "    root='./data', \n",
    "    train=True,\n",
    "    download=True, \n",
    "    transform=tf,\n",
    ")\n",
    "trainloader = torch.utils.data.DataLoader(\n",
    "    trainset, \n",
    "    batch_size=TRAIN_BATCH_SIZE,\n",
    "    shuffle=True, \n",
    "    num_workers=2\n",
    ")\n",
    "\n",
    "testset = torchvision.datasets.CIFAR10(\n",
    "    root='./data', \n",
    "    train=False,\n",
    "    download=True, \n",
    "    transform=tf,\n",
    ")\n",
    "testloader = torch.utils.data.DataLoader(\n",
    "    testset, \n",
    "    batch_size=200,\n",
    "    shuffle=False, \n",
    "    num_workers=2\n",
    ")"
   ]
  },
  {
   "cell_type": "code",
   "execution_count": 5,
   "id": "2a7fe9a4",
   "metadata": {},
   "outputs": [
    {
     "data": {
      "text/plain": [
       "50000"
      ]
     },
     "execution_count": 5,
     "metadata": {},
     "output_type": "execute_result"
    }
   ],
   "source": [
    "trainset.__len__()"
   ]
  },
  {
   "cell_type": "code",
   "execution_count": 6,
   "id": "59578039",
   "metadata": {},
   "outputs": [],
   "source": [
    "img, label = trainset.__getitem__(0)"
   ]
  },
  {
   "cell_type": "markdown",
   "id": "d63d8832",
   "metadata": {},
   "source": [
    "### Setting up autoencoder"
   ]
  },
  {
   "cell_type": "code",
   "execution_count": 96,
   "id": "23af8444",
   "metadata": {},
   "outputs": [],
   "source": [
    "class ResidualBlock(nn.Module):\n",
    "  def __init__(self, in_channels, out_channels, kernel_size, downsample=False, stride=1):\n",
    "    super(ResidualBlock, self).__init__()\n",
    "    self.downsample = downsample\n",
    "    if self.downsample:\n",
    "      padding = 0\n",
    "      self.ds_pool = nn.AvgPool2d(kernel_size=kernel_size, stride=stride, padding=padding)\n",
    "    else:\n",
    "      padding = 1\n",
    "    self.conv = nn.Sequential(\n",
    "      nn.Conv2d(in_channels=in_channels, out_channels=out_channels, kernel_size=kernel_size, stride=stride, padding=padding),\n",
    "      nn.BatchNorm2d(num_features=out_channels),\n",
    "      nn.ReLU(),\n",
    "      nn.Conv2d(in_channels=out_channels, out_channels=out_channels, kernel_size=kernel_size, stride=stride, padding=padding),\n",
    "      nn.BatchNorm2d(num_features=out_channels)\n",
    "    )\n",
    "    self.relu = nn.ReLU()\n",
    "    self.conv1x1 = nn.Conv2d(in_channels=in_channels, out_channels=out_channels, kernel_size=1, stride=1, padding=0)\n",
    "\n",
    "  def forward(self, X):\n",
    "    X_conv = self.conv(X)\n",
    "    X = self.conv1x1(X)\n",
    "    if self.downsample:\n",
    "      X = self.ds_pool(X)\n",
    "      X = self.ds_pool(X)\n",
    "    X = X + X_conv\n",
    "    X = self.relu(X)\n",
    "    return X"
   ]
  },
  {
   "cell_type": "code",
   "execution_count": 153,
   "id": "ab08baab",
   "metadata": {},
   "outputs": [],
   "source": [
    "class UnResidualBlock(nn.Module):\n",
    "  def __init__(self, in_channels, out_channels, kernel_size, in_shape, upsample=False, stride=1):\n",
    "    super(UnResidualBlock, self).__init__()\n",
    "    self.upsample = upsample\n",
    "    if self.upsample:\n",
    "      padding = 0\n",
    "      size_increase1 = (in_shape - 1) * stride + kernel_size\n",
    "      size_increase2 = (size_increase1 - 1) * stride + kernel_size\n",
    "      self.up1 = nn.Upsample(size=size_increase1)\n",
    "      self.up2 = nn.Upsample(size=size_increase2)\n",
    "    else:\n",
    "      padding = 1\n",
    "    self.conv = nn.Sequential(\n",
    "      nn.ConvTranspose2d(in_channels=in_channels, out_channels=out_channels, kernel_size=kernel_size, stride=stride, padding=padding),\n",
    "      nn.BatchNorm2d(num_features=out_channels),\n",
    "      nn.ReLU(),\n",
    "      nn.ConvTranspose2d(in_channels=out_channels, out_channels=out_channels, kernel_size=kernel_size, stride=stride, padding=padding),\n",
    "      nn.BatchNorm2d(num_features=out_channels)\n",
    "    )\n",
    "    self.relu = nn.ReLU()\n",
    "    self.conv1x1 = nn.Conv2d(in_channels=in_channels, out_channels=out_channels, kernel_size=1, stride=1, padding=0)\n",
    "\n",
    "  def forward(self, X):\n",
    "    X_conv = self.conv(X)\n",
    "    X = self.conv1x1(X)\n",
    "    if self.upsample:\n",
    "      X = self.up1(X)\n",
    "      X = self.up2(X)\n",
    "    X = X + X_conv\n",
    "    X = self.relu(X)\n",
    "    return X"
   ]
  },
  {
   "cell_type": "code",
   "execution_count": 9,
   "id": "48ad2257",
   "metadata": {},
   "outputs": [],
   "source": [
    "class ResNet(nn.Module):\n",
    "  def __init__(self, dropout):\n",
    "    super(ResNet, self).__init__()\n",
    "    self.conv_init = nn.Sequential(\n",
    "      nn.Conv2d(in_channels=3, out_channels=4, kernel_size=3, stride=1, padding=0),\n",
    "      nn.BatchNorm2d(num_features=4),\n",
    "      nn.ReLU()\n",
    "    )\n",
    "    self.maxpool = nn.MaxPool2d(kernel_size=2, stride=1, padding=0)\n",
    "    self.resblocks = nn.Sequential(\n",
    "      ResidualBlock(in_channels=4, out_channels=8, kernel_size=4, downsample=True),\n",
    "      ResidualBlock(in_channels=8, out_channels=16, kernel_size=4, downsample=True),\n",
    "      ResidualBlock(in_channels=16, out_channels=32, kernel_size=4, downsample=True),\n",
    "      ResidualBlock(in_channels=32, out_channels=64, kernel_size=4, downsample=True),\n",
    "      ResidualBlock(in_channels=64, out_channels=128, kernel_size=2, downsample=True),\n",
    "      nn.Dropout(dropout),\n",
    "    )\n",
    "    self.final_layer = nn.Sequential(\n",
    "      nn.AvgPool2d(kernel_size=3, padding=0, stride=1),\n",
    "      nn.ReLU(),\n",
    "      nn.Flatten(),\n",
    "      nn.Linear(in_features=128, out_features=64, bias=False),\n",
    "    )\n",
    "  \n",
    "  def forward(self, X):\n",
    "    X = self.conv_init(X)\n",
    "    X = self.maxpool(X)\n",
    "    X = self.resblocks(X)\n",
    "    X = self.final_layer(X)\n",
    "    return X"
   ]
  },
  {
   "cell_type": "code",
   "execution_count": 112,
   "id": "33361c3b",
   "metadata": {},
   "outputs": [],
   "source": [
    "class UnResNet(nn.Module):\n",
    "  def __init__(self, dropout):\n",
    "    super(UnResNet, self).__init__()\n",
    "    self.unproject = nn.Sequential(\n",
    "      nn.Linear(in_features=64, out_features=128),\n",
    "      nn.Unflatten(dim=-1, unflattened_size=[128, 1, 1]),\n",
    "      nn.ReLU(),\n",
    "      nn.Upsample(size=3),\n",
    "    )\n",
    "    self.unresblocks = nn.Sequential(\n",
    "      nn.Dropout(dropout),\n",
    "      UnResidualBlock(in_channels=128, out_channels=64, kernel_size=2, in_shape=3, upsample=True),\n",
    "      UnResidualBlock(in_channels=64, out_channels=32, kernel_size=4, in_shape=5, upsample=True),\n",
    "      UnResidualBlock(in_channels=32, out_channels=16, kernel_size=4, in_shape=11, upsample=True),\n",
    "      UnResidualBlock(in_channels=16, out_channels=8, kernel_size=4, in_shape=17, upsample=True),\n",
    "      UnResidualBlock(in_channels=8, out_channels=4, kernel_size=4, in_shape=23, upsample=True), \n",
    "    )\n",
    "    self.rev_maxpool = nn.Upsample(size=30)\n",
    "    self.rev_conv_init = nn.Sequential(\n",
    "      nn.ReLU(),\n",
    "      nn.BatchNorm2d(num_features=4),\n",
    "      nn.ConvTranspose2d(in_channels=4, out_channels=3, kernel_size=3, stride=1, padding=0),       \n",
    "    )\n",
    "\n",
    "  def forward(self, X):\n",
    "    X = self.unproject(X)\n",
    "    X = self.unresblocks(X)\n",
    "    X = self.rev_maxpool(X)\n",
    "    X = self.rev_conv_init(X)\n",
    "    return X"
   ]
  },
  {
   "cell_type": "code",
   "execution_count": 11,
   "id": "ce3510eb",
   "metadata": {},
   "outputs": [],
   "source": [
    "class ResNetAutoEncoder(nn.Module):\n",
    "  def __init__(self, dropout=0.2):\n",
    "    super(ResNetAutoEncoder, self).__init__()\n",
    "    self.resnet = ResNet(dropout)\n",
    "    self.unresnet = UnResNet(dropout)\n",
    "  \n",
    "  def forward(self, X):\n",
    "    X_emb = self.resnet(X) #embed X\n",
    "    X_repr = self.unresnet(X_emb) #reproduce X\n",
    "    return X_emb, X_repr"
   ]
  },
  {
   "cell_type": "markdown",
   "id": "ce607f90",
   "metadata": {},
   "source": [
    "### Train "
   ]
  },
  {
   "cell_type": "code",
   "execution_count": 12,
   "id": "6d94feb1",
   "metadata": {},
   "outputs": [
    {
     "data": {
      "text/plain": [
       "384475"
      ]
     },
     "execution_count": 12,
     "metadata": {},
     "output_type": "execute_result"
    }
   ],
   "source": [
    "device = torch.device('xpu')\n",
    "rnae = ResNetAutoEncoder()\n",
    "rnae.to(device)\n",
    "sum([p.numel() for p in rnae.parameters()])"
   ]
  },
  {
   "cell_type": "code",
   "execution_count": 13,
   "id": "541439d7",
   "metadata": {},
   "outputs": [
    {
     "data": {
      "text/plain": [
       "(torch.Size([128, 3, 32, 32]),\n",
       " torch.Size([128, 64]),\n",
       " torch.Size([128, 3, 32, 32]))"
      ]
     },
     "execution_count": 13,
     "metadata": {},
     "output_type": "execute_result"
    }
   ],
   "source": [
    "batch, _ = next(iter(trainloader))\n",
    "batch = batch.to(device)\n",
    "batch_emb, batch_repr = rnae(batch)\n",
    "batch.shape, batch_emb.shape, batch_repr.shape"
   ]
  },
  {
   "cell_type": "code",
   "execution_count": 14,
   "id": "97059b1e",
   "metadata": {},
   "outputs": [],
   "source": [
    "criterion = nn.MSELoss()\n",
    "lr = 1e-3\n",
    "weight_decay = 1e-3\n",
    "optimizer = optim.Adam(params=rnae.parameters(), lr=lr, weight_decay=1e-3)"
   ]
  },
  {
   "cell_type": "code",
   "execution_count": 15,
   "id": "53101685",
   "metadata": {},
   "outputs": [
    {
     "name": "stdout",
     "output_type": "stream",
     "text": [
      "epoch 0, batch 0: loss = 1.4183911085128784\n",
      "epoch 0, batch 20: loss = 1.0150094032287598\n",
      "epoch 0, batch 40: loss = 0.7885667085647583\n",
      "epoch 1, batch 0: loss = 0.7109338641166687\n",
      "epoch 1, batch 20: loss = 0.6728948950767517\n",
      "epoch 1, batch 40: loss = 0.6118177175521851\n",
      "epoch 2, batch 0: loss = 0.6054090261459351\n",
      "epoch 2, batch 20: loss = 0.6069345474243164\n",
      "epoch 2, batch 40: loss = 0.5716887712478638\n",
      "epoch 3, batch 0: loss = 0.5645923614501953\n",
      "epoch 3, batch 20: loss = 0.5633751153945923\n",
      "epoch 3, batch 40: loss = 0.5396621823310852\n",
      "epoch 4, batch 0: loss = 0.5333914756774902\n",
      "epoch 4, batch 20: loss = 0.542475163936615\n",
      "epoch 4, batch 40: loss = 0.515641987323761\n",
      "epoch 5, batch 0: loss = 0.5070582032203674\n",
      "epoch 5, batch 20: loss = 0.5075738430023193\n",
      "epoch 5, batch 40: loss = 0.48354461789131165\n",
      "epoch 6, batch 0: loss = 0.48172980546951294\n",
      "epoch 6, batch 20: loss = 0.492007315158844\n",
      "epoch 6, batch 40: loss = 0.46936696767807007\n",
      "epoch 7, batch 0: loss = 0.4670346677303314\n",
      "epoch 7, batch 20: loss = 0.48366451263427734\n",
      "epoch 7, batch 40: loss = 0.46336469054222107\n",
      "epoch 8, batch 0: loss = 0.46329784393310547\n",
      "epoch 8, batch 20: loss = 0.4667902886867523\n",
      "epoch 8, batch 40: loss = 0.44292837381362915\n",
      "epoch 9, batch 0: loss = 0.45101696252822876\n",
      "epoch 9, batch 20: loss = 0.4569091796875\n",
      "epoch 9, batch 40: loss = 0.4404049813747406\n"
     ]
    }
   ],
   "source": [
    "for epoch in range(10):\n",
    "  for idx, (inputs, _) in enumerate(testloader, 0):\n",
    "    inputs = inputs.to(device)\n",
    "    emb, repr = rnae(inputs)\n",
    "    optimizer.zero_grad()\n",
    "    loss = criterion(repr, inputs)\n",
    "    loss.backward()\n",
    "    optimizer.step()\n",
    "\n",
    "    if idx % 20 == 0:\n",
    "      print(f'epoch {epoch}, batch {idx}: loss = {loss.item()}')\n"
   ]
  },
  {
   "cell_type": "markdown",
   "id": "7ed6a900",
   "metadata": {},
   "source": [
    "### Demonstrate embeddings with clustering"
   ]
  },
  {
   "cell_type": "code",
   "execution_count": 16,
   "id": "706d0779",
   "metadata": {},
   "outputs": [],
   "source": [
    "sampler = RandomSampler(trainset)\n",
    "sampling_dataloader = DataLoader(trainset, batch_size=100, sampler=sampler)"
   ]
  },
  {
   "cell_type": "code",
   "execution_count": 180,
   "id": "425afa99",
   "metadata": {},
   "outputs": [],
   "source": [
    "def compare_cos_similarity(model, sampling_dataloader, device):\n",
    "  x, y = next(iter(sampling_dataloader))\n",
    "  x, y = x.to(device), y.to(device)\n",
    "  x_emb, _ = model(x)\n",
    "\n",
    "  x_emb_norm = F.normalize(x_emb.squeeze(1), p=2.0, dim=1)\n",
    "  cos_sim = x_emb_norm @ x_emb_norm.T\n",
    "  cos_sim = (cos_sim.cpu() + 1) / 2 #add one and divide by 2 so that values range from 0 to 1, not -1 to 1 \n",
    "\n",
    "  y_cpu = y.cpu()\n",
    "  print('class    |  same class  |  diff class  |  ratio (same / diff)')\n",
    "  print('-------------------------------------------------------------')\n",
    "  for label in set(y_cpu.numpy()):\n",
    "    idxs = (y_cpu == label).nonzero().squeeze(1)\n",
    "    not_idxs = (y_cpu != label).nonzero().squeeze(1)\n",
    "    mean_dot_prod_sharedclass = cos_sim[idxs][:, idxs].mean()\n",
    "    mean_dot_prod_diffclass = cos_sim[idxs][:, not_idxs].mean()\n",
    "    ratio = mean_dot_prod_sharedclass / mean_dot_prod_diffclass\n",
    "    print(f'class {label}        {mean_dot_prod_sharedclass:.2f}           {mean_dot_prod_diffclass:.2f}          {ratio:.2f}')"
   ]
  },
  {
   "cell_type": "code",
   "execution_count": 169,
   "id": "0d7f1388",
   "metadata": {},
   "outputs": [
    {
     "name": "stdout",
     "output_type": "stream",
     "text": [
      "class    |  same class  |  diff class  |  ratio (same / diff)\n",
      "-------------------------------------------------------------\n",
      "class 0        0.16           0.04          3.63\n",
      "class 1        0.19           0.08          2.31\n",
      "class 2        0.10           0.07          1.36\n",
      "class 3        0.20           0.07          2.68\n",
      "class 4        0.14           0.08          1.70\n",
      "class 5        0.13           0.07          1.95\n",
      "class 6        0.35           0.08          4.55\n",
      "class 7        0.10           0.06          1.78\n",
      "class 8        0.25           0.02          15.30\n",
      "class 9        0.28           0.06          5.06\n"
     ]
    }
   ],
   "source": [
    "compare_cos_similarity(rnae, testloader)"
   ]
  },
  {
   "cell_type": "code",
   "execution_count": 26,
   "id": "6d20bdab",
   "metadata": {},
   "outputs": [
    {
     "name": "stdout",
     "output_type": "stream",
     "text": [
      "class    |  same class  |  diff class  |  ratio (same / diff)\n",
      "-------------------------------------------------------------\n",
      "class 0        0.49           0.50          0.99\n",
      "class 1        0.52           0.49          1.06\n",
      "class 2        0.49           0.50          0.99\n",
      "class 3        0.59           0.54          1.10\n",
      "class 4        0.61           0.54          1.13\n",
      "class 5        0.58           0.53          1.08\n",
      "class 6        0.52           0.50          1.04\n",
      "class 7        0.53           0.52          1.02\n",
      "class 8        0.60           0.53          1.14\n",
      "class 9        0.58           0.53          1.09\n"
     ]
    }
   ],
   "source": [
    "untrained_rnae = ResNetAutoEncoder().to(device)\n",
    "compare_cos_similarity(untrained_rnae, testloader)"
   ]
  },
  {
   "cell_type": "code",
   "execution_count": 20,
   "id": "92643bc0",
   "metadata": {},
   "outputs": [],
   "source": [
    "from sklearn.decomposition import PCA\n",
    "import matplotlib.pyplot as plt\n",
    "pca = PCA(n_components=2)\n",
    "\n",
    "x, y = next(iter(sampling_dataloader))\n",
    "x, y = x.to(device), y.to(device)\n",
    "x_emb, _ = rnae(x)"
   ]
  },
  {
   "cell_type": "code",
   "execution_count": 21,
   "id": "fdc79c35",
   "metadata": {},
   "outputs": [],
   "source": [
    "x_pca = pca.fit_transform(x_emb.cpu().detach().numpy())"
   ]
  },
  {
   "cell_type": "code",
   "execution_count": 22,
   "id": "357b0521",
   "metadata": {},
   "outputs": [
    {
     "data": {
      "text/plain": [
       "<matplotlib.collections.PathCollection at 0x71cf616f9a90>"
      ]
     },
     "execution_count": 22,
     "metadata": {},
     "output_type": "execute_result"
    },
    {
     "data": {
      "image/png": "[encoded data removed]",
      "text/plain": [
       "<Figure size 640x480 with 1 Axes>"
      ]
     },
     "metadata": {},
     "output_type": "display_data"
    }
   ],
   "source": [
    "plt.scatter(x=x_pca[:, 0], y=x_pca[:, 1], c=y.cpu())"
   ]
  },
  {
   "cell_type": "markdown",
   "id": "24e6eccb",
   "metadata": {},
   "source": [
    "### Same Approach, but on MNIST"
   ]
  },
  {
   "cell_type": "code",
   "execution_count": 28,
   "id": "0c419811",
   "metadata": {},
   "outputs": [],
   "source": [
    "from torchvision import datasets, transforms\n",
    "\n",
    "mnist_transform = transforms.Compose([\n",
    "    transforms.ToTensor(),  # Convert PIL Image to PyTorch Tensor\n",
    "    transforms.Normalize((0.1307,), (0.3081,)) # Normalize pixel values\n",
    "])\n",
    "mnist_train_dataset = datasets.MNIST(root='./data', train=True, download=True, transform=mnist_transform)\n",
    "mnist_test_dataset = datasets.MNIST(root='./data', train=False, download=True, transform=mnist_transform)\n",
    "mnist_train_loader = torch.utils.data.DataLoader(mnist_train_dataset, batch_size=64, shuffle=True)\n",
    "mnist_test_loader = torch.utils.data.DataLoader(mnist_test_dataset, batch_size=1000, shuffle=False)"
   ]
  },
  {
   "cell_type": "code",
   "execution_count": 154,
   "id": "b3b58294",
   "metadata": {},
   "outputs": [],
   "source": [
    "class MnistResNet(nn.Module):\n",
    "  def __init__(self):\n",
    "    super(MnistResNet, self).__init__()\n",
    "    self.conv_init = nn.Sequential(\n",
    "      nn.Conv2d(in_channels=1, out_channels=2, kernel_size=3, stride=1, padding=0),\n",
    "      nn.BatchNorm2d(num_features=2),\n",
    "      nn.ReLU()\n",
    "    )\n",
    "    self.maxpool = nn.MaxPool2d(kernel_size=2, stride=1, padding=0)\n",
    "    self.resblocks = nn.Sequential(\n",
    "      ResidualBlock(in_channels=2, out_channels=4, kernel_size=3, downsample=True),\n",
    "      ResidualBlock(in_channels=4, out_channels=8, kernel_size=3, downsample=True),\n",
    "      ResidualBlock(in_channels=8, out_channels=16, kernel_size=3, downsample=True),\n",
    "      ResidualBlock(in_channels=16, out_channels=32, kernel_size=3, downsample=True),\n",
    "      ResidualBlock(in_channels=32, out_channels=64, kernel_size=3, downsample=True),\n",
    "      ResidualBlock(in_channels=64, out_channels=128, kernel_size=3, downsample=True),\n",
    "    )\n",
    "    self.final_layer = nn.Sequential(\n",
    "      nn.Flatten(),\n",
    "      nn.Linear(in_features=128, out_features=32, bias=False),\n",
    "    )\n",
    "  \n",
    "  def forward(self, X):\n",
    "    X = self.conv_init(X)\n",
    "    X = self.maxpool(X)\n",
    "    X = self.resblocks(X)\n",
    "    X = self.final_layer(X)\n",
    "    return X"
   ]
  },
  {
   "cell_type": "code",
   "execution_count": 155,
   "id": "5f1217eb",
   "metadata": {},
   "outputs": [],
   "source": [
    "class MnistUnResNet(nn.Module):\n",
    "  def __init__(self):\n",
    "    super(MnistUnResNet, self).__init__()\n",
    "    self.unproject = nn.Sequential(\n",
    "      nn.Linear(in_features=32, out_features=128),\n",
    "      nn.Unflatten(dim=-1, unflattened_size=[128, 1, 1]),\n",
    "    )\n",
    "    self.unresblocks = nn.Sequential(\n",
    "      UnResidualBlock(in_channels=128, out_channels=64, kernel_size=3, in_shape=1, upsample=True),\n",
    "      UnResidualBlock(in_channels=64, out_channels=32, kernel_size=3, in_shape=5, upsample=True),\n",
    "      UnResidualBlock(in_channels=32, out_channels=16, kernel_size=3, in_shape=9, upsample=True),\n",
    "      UnResidualBlock(in_channels=16, out_channels=8, kernel_size=3, in_shape=13, upsample=True),\n",
    "      UnResidualBlock(in_channels=8, out_channels=4, kernel_size=3, in_shape=17, upsample=True),\n",
    "      UnResidualBlock(in_channels=4, out_channels=2, kernel_size=3, in_shape=21, upsample=True),\n",
    "    )\n",
    "    self.rev_maxpool = nn.Upsample(size=26)\n",
    "    self.rev_conv_init = nn.Sequential(\n",
    "      nn.ReLU(),\n",
    "      nn.BatchNorm2d(num_features=2),\n",
    "      nn.ConvTranspose2d(in_channels=2, out_channels=1, kernel_size=3, stride=1, padding=0),       \n",
    "    )\n",
    "\n",
    "  def forward(self, X):\n",
    "    X = self.unproject(X)\n",
    "    X = self.unresblocks(X)\n",
    "    X = self.rev_maxpool(X)\n",
    "    X = self.rev_conv_init(X)\n",
    "    return X"
   ]
  },
  {
   "cell_type": "code",
   "execution_count": 188,
   "id": "9a3cf49f",
   "metadata": {},
   "outputs": [
    {
     "data": {
      "text/plain": [
       "475113"
      ]
     },
     "execution_count": 188,
     "metadata": {},
     "output_type": "execute_result"
    }
   ],
   "source": [
    "class MnistResNetAutoEncoder(nn.Module):\n",
    "  def __init__(self):\n",
    "    super(MnistResNetAutoEncoder, self).__init__()\n",
    "    self.resnet = MnistResNet()\n",
    "    self.unresnet = MnistUnResNet()\n",
    "  \n",
    "  def forward(self, X):\n",
    "    X_emb = self.resnet(X) #embed X\n",
    "    X_repr = self.unresnet(X_emb) #reproduce X\n",
    "    return X_emb, X_repr\n",
    "  \n",
    "mrnae = MnistResNetAutoEncoder()\n",
    "mrnae.to(device)\n",
    "sum([p.numel() for p in mrnae.parameters()])"
   ]
  },
  {
   "cell_type": "code",
   "execution_count": 189,
   "id": "1f43de76",
   "metadata": {},
   "outputs": [
    {
     "name": "stdout",
     "output_type": "stream",
     "text": [
      "epoch 0, batch 0: loss = 1.5999789237976074\n",
      "epoch 0, batch 400: loss = 0.3096774220466614\n",
      "epoch 0, batch 800: loss = 0.21471326053142548\n",
      "epoch 1, batch 0: loss = 0.20442704856395721\n",
      "epoch 1, batch 400: loss = 0.1940455436706543\n",
      "epoch 1, batch 800: loss = 0.19657453894615173\n",
      "epoch 2, batch 0: loss = 0.18291908502578735\n",
      "epoch 2, batch 400: loss = 0.19517071545124054\n",
      "epoch 2, batch 800: loss = 0.1605585515499115\n",
      "epoch 3, batch 0: loss = 0.16305595636367798\n",
      "epoch 3, batch 400: loss = 0.1685318797826767\n",
      "epoch 3, batch 800: loss = 0.1559986025094986\n",
      "epoch 4, batch 0: loss = 0.15028521418571472\n",
      "epoch 4, batch 400: loss = 0.14003030955791473\n",
      "epoch 4, batch 800: loss = 0.16884569823741913\n"
     ]
    }
   ],
   "source": [
    "#train\n",
    "criterion = nn.MSELoss()\n",
    "lr = 1e-3\n",
    "weight_decay = 1e-3\n",
    "optimizer = optim.Adam(params=mrnae.parameters(), lr=lr, weight_decay=1e-3)\n",
    "\n",
    "\n",
    "for epoch in range(5):\n",
    "  for idx, (inputs, _) in enumerate(mnist_train_loader, 0):\n",
    "    inputs = inputs.to(device)\n",
    "    emb, repr = mrnae(inputs)\n",
    "    optimizer.zero_grad()\n",
    "    loss = criterion(repr, inputs)\n",
    "    loss.backward()\n",
    "    optimizer.step()\n",
    "\n",
    "    if idx % 200 == 0:\n",
    "      print(f'epoch {epoch}, batch {idx}: loss = {loss.item()}')"
   ]
  },
  {
   "cell_type": "code",
   "execution_count": 242,
   "id": "24928f77",
   "metadata": {},
   "outputs": [
    {
     "name": "stdout",
     "output_type": "stream",
     "text": [
      "class    |  same class  |  diff class  |  ratio (same / diff)\n",
      "-------------------------------------------------------------\n",
      "class 0        0.69           0.55          1.26\n",
      "class 1        0.75           0.53          1.42\n",
      "class 2        0.68           0.56          1.21\n",
      "class 3        0.67           0.55          1.20\n",
      "class 4        0.67           0.56          1.19\n",
      "class 5        0.63           0.55          1.15\n",
      "class 6        0.68           0.56          1.23\n",
      "class 7        0.67           0.55          1.22\n",
      "class 8        0.65           0.56          1.15\n",
      "class 9        0.69           0.56          1.22\n"
     ]
    }
   ],
   "source": [
    "compare_cos_similarity(mrnae, mnist_test_loader, device)"
   ]
  },
  {
   "cell_type": "code",
   "execution_count": 191,
   "id": "30fbf04e",
   "metadata": {},
   "outputs": [
    {
     "name": "stdout",
     "output_type": "stream",
     "text": [
      "class    |  same class  |  diff class  |  ratio (same / diff)\n",
      "-------------------------------------------------------------\n",
      "class 0        0.69           0.69          1.01\n",
      "class 1        0.69           0.68          1.02\n",
      "class 2        0.70           0.70          1.01\n",
      "class 3        0.72           0.71          1.02\n",
      "class 4        0.73           0.71          1.03\n",
      "class 5        0.72           0.70          1.02\n",
      "class 6        0.72           0.70          1.02\n",
      "class 7        0.69           0.69          1.00\n",
      "class 8        0.73           0.71          1.04\n",
      "class 9        0.72           0.70          1.02\n"
     ]
    }
   ],
   "source": [
    "untrained_mrnae = MnistResNetAutoEncoder()\n",
    "untrained_mrnae.to(device)\n",
    "\n",
    "compare_cos_similarity(untrained_mrnae, mnist_test_loader, device)"
   ]
  },
  {
   "cell_type": "code",
   "execution_count": null,
   "id": "c224d416",
   "metadata": {},
   "outputs": [],
   "source": []
  },
  {
   "cell_type": "markdown",
   "id": "a2d80655",
   "metadata": {},
   "source": [
    "### Demonstraiton on several examples"
   ]
  },
  {
   "cell_type": "code",
   "execution_count": 208,
   "id": "3d753b9a",
   "metadata": {},
   "outputs": [],
   "source": [
    "x, y = next(iter(mnist_train_loader))\n",
    "img_emb, img_repr = mrnae(x.to(device))"
   ]
  },
  {
   "cell_type": "code",
   "execution_count": 240,
   "id": "8cf19089",
   "metadata": {},
   "outputs": [
    {
     "name": "stdout",
     "output_type": "stream",
     "text": [
      "tensor(9)\n"
     ]
    },
    {
     "data": {
      "image/png": "[encoded data removed]",
      "text/plain": [
       "<Figure size 640x480 with 1 Axes>"
      ]
     },
     "metadata": {},
     "output_type": "display_data"
    }
   ],
   "source": [
    "idx = 10\n",
    "\n",
    "print(y[idx])\n",
    "plt.imshow(x[idx].squeeze(0), cmap='gray')\n",
    "plt.axis('off')\n",
    "plt.savefig('9_ae_compare_in.png', bbox_inches='tight', pad_inches=0)\n",
    "plt.show()"
   ]
  },
  {
   "cell_type": "code",
   "execution_count": 241,
   "id": "c0962eb0",
   "metadata": {},
   "outputs": [
    {
     "data": {
      "image/png": "[encoded data removed]",
      "text/plain": [
       "<Figure size 640x480 with 1 Axes>"
      ]
     },
     "metadata": {},
     "output_type": "display_data"
    }
   ],
   "source": [
    "plt_img = img_repr[idx].squeeze(0).cpu().detach().numpy()\n",
    "plt.imshow(plt_img, cmap='gray')\n",
    "plt.axis('off')\n",
    "plt.savefig('9_ae_compare_out.png', bbox_inches='tight', pad_inches=0)\n",
    "plt.show()"
   ]
  }
 ],
 "metadata": {
  "kernelspec": {
   "display_name": ".venv (3.12.7)",
   "language": "python",
   "name": "python3"
  },
  "language_info": {
   "codemirror_mode": {
    "name": "ipython",
    "version": 3
   },
   "file_extension": ".py",
   "mimetype": "text/x-python",
   "name": "python",
   "nbconvert_exporter": "python",
   "pygments_lexer": "ipython3",
   "version": "3.12.7"
  }
 },
 "nbformat": 4,
 "nbformat_minor": 5
}
